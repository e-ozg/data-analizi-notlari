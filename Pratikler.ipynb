{
  "cells": [
    {
      "cell_type": "markdown",
      "metadata": {
        "id": "FnLURgcIQ_Gi"
      },
      "source": [
        "**1- 3x2 lik 1 lerden oluşan bir matris oluşturun**"
      ]
    },
    {
      "cell_type": "code",
      "execution_count": 2,
      "metadata": {
        "colab": {
          "base_uri": "https://localhost:8080/",
          "height": 176
        },
        "id": "c0ib_9BUQbmp",
        "outputId": "d5cfc15e-a11a-4503-ef23-a8fc556b4f08"
      },
      "outputs": [
        {
          "name": "stdout",
          "output_type": "stream",
          "text": [
            "[[1. 1.]\n",
            " [1. 1.]\n",
            " [1. 1.]]\n"
          ]
        }
      ],
      "source": [
        "import numpy as np\n",
        "a = np.ones((3,2))\n",
        "print(a)"
      ]
    },
    {
      "cell_type": "markdown",
      "metadata": {
        "id": "qJwVk__lRAiR"
      },
      "source": [
        "**2- 2x5 6'lardan oluşan bir matris oluşturun**"
      ]
    },
    {
      "cell_type": "code",
      "execution_count": 3,
      "metadata": {
        "colab": {
          "base_uri": "https://localhost:8080/",
          "height": 158
        },
        "id": "3wsm_xvxQ-ue",
        "outputId": "c60a56e7-f92a-4861-8a68-761a00e3a6bd"
      },
      "outputs": [
        {
          "name": "stdout",
          "output_type": "stream",
          "text": [
            "[[6 6 6 6 6]\n",
            " [6 6 6 6 6]]\n"
          ]
        }
      ],
      "source": [
        "b = np.full((2,5),6)\n",
        "print (b)"
      ]
    },
    {
      "cell_type": "markdown",
      "metadata": {
        "id": "WWgcIT6uRCWe"
      },
      "source": [
        "**3- 2-100 arası 2 şer atlayan bir array oluşturun**"
      ]
    },
    {
      "cell_type": "code",
      "execution_count": 4,
      "metadata": {
        "id": "pZCHhA43RFd6"
      },
      "outputs": [
        {
          "name": "stdout",
          "output_type": "stream",
          "text": [
            "[ 2  4  6  8 10 12 14 16 18 20 22 24 26 28 30 32 34 36 38 40 42 44 46 48\n",
            " 50 52 54 56 58 60 62 64 66 68 70 72 74 76 78 80 82 84 86 88 90 92 94 96\n",
            " 98]\n"
          ]
        }
      ],
      "source": [
        "c = np.arange(2,100,2)\n",
        "print (c)"
      ]
    },
    {
      "cell_type": "markdown",
      "metadata": {
        "id": "YVTCRlDHRFzA"
      },
      "source": [
        "**4- 3-10 arasında eşit dağılımlı 50 değer oluşturan bir array oluşturun**"
      ]
    },
    {
      "cell_type": "code",
      "execution_count": 5,
      "metadata": {
        "id": "NlQKoNLMRHM_"
      },
      "outputs": [
        {
          "name": "stdout",
          "output_type": "stream",
          "text": [
            "[ 3.          3.14285714  3.28571429  3.42857143  3.57142857  3.71428571\n",
            "  3.85714286  4.          4.14285714  4.28571429  4.42857143  4.57142857\n",
            "  4.71428571  4.85714286  5.          5.14285714  5.28571429  5.42857143\n",
            "  5.57142857  5.71428571  5.85714286  6.          6.14285714  6.28571429\n",
            "  6.42857143  6.57142857  6.71428571  6.85714286  7.          7.14285714\n",
            "  7.28571429  7.42857143  7.57142857  7.71428571  7.85714286  8.\n",
            "  8.14285714  8.28571429  8.42857143  8.57142857  8.71428571  8.85714286\n",
            "  9.          9.14285714  9.28571429  9.42857143  9.57142857  9.71428571\n",
            "  9.85714286 10.        ]\n"
          ]
        }
      ],
      "source": [
        "d = np.linspace(3,10,50)\n",
        "print (d)"
      ]
    },
    {
      "cell_type": "markdown",
      "metadata": {
        "id": "8_hXPZchRI87"
      },
      "source": [
        "**5- 10 boyutunda sıfırlardan oluşan bir vektör (array) oluşturun, 5. değeri 1 olsun**"
      ]
    },
    {
      "cell_type": "code",
      "execution_count": 6,
      "metadata": {
        "id": "aWRMFwupRJcU"
      },
      "outputs": [
        {
          "name": "stdout",
          "output_type": "stream",
          "text": [
            "[0. 0. 0. 0. 1. 0. 0. 0. 0. 0.]\n"
          ]
        }
      ],
      "source": [
        "# Doğru anladığımdan emin değilim\n",
        "\n",
        "e = np.zeros(10)\n",
        "e[4] = 1\n",
        "print (e)"
      ]
    },
    {
      "cell_type": "markdown",
      "metadata": {
        "id": "NAHNnt_yRLPO"
      },
      "source": [
        "**6- 0 dan 8 e kadar sıralı değerler barındıran 3x3 lük bir matris oluşturun**"
      ]
    },
    {
      "cell_type": "code",
      "execution_count": 7,
      "metadata": {
        "id": "oz-NbuPIRLxh"
      },
      "outputs": [
        {
          "name": "stdout",
          "output_type": "stream",
          "text": [
            "[[0 1 2]\n",
            " [3 4 5]\n",
            " [6 7 8]]\n"
          ]
        }
      ],
      "source": [
        "f = np.arange(0,9).reshape(3,3)\n",
        "print (f)"
      ]
    },
    {
      "cell_type": "markdown",
      "metadata": {
        "id": "uE4n65WoRMqU"
      },
      "source": [
        "**7- Rasgele sayılardan oluşan 3x3x3 lük bir array oluşturun**"
      ]
    },
    {
      "cell_type": "code",
      "execution_count": 8,
      "metadata": {
        "id": "vdds-C0XRO5s"
      },
      "outputs": [
        {
          "name": "stdout",
          "output_type": "stream",
          "text": [
            "[[0.97182221 0.18732036 0.8175653 ]\n",
            " [0.93665365 0.17874912 0.28141621]\n",
            " [0.18596507 0.53565283 0.94682233]]\n"
          ]
        }
      ],
      "source": [
        "g = np.random.random((3,3))\n",
        "print (g)"
      ]
    },
    {
      "cell_type": "markdown",
      "metadata": {
        "id": "WLA8kaXlaP5p"
      },
      "source": [
        "**8- 10x10 luk bir array oluşturun. Max ve min değerlerini bir değişkene atayın**"
      ]
    },
    {
      "cell_type": "code",
      "execution_count": 9,
      "metadata": {
        "id": "lU8WazwsaPZ_"
      },
      "outputs": [
        {
          "name": "stdout",
          "output_type": "stream",
          "text": [
            "[[62 84 22 47 66 47 14 35 91 41]\n",
            " [67 91 67  1 91 50 62 24 47 39]\n",
            " [80 38 86 14 17 20  4  3  2 62]\n",
            " [47 89  3 92 81 75 25 47 64 88]\n",
            " [54 35 91 76 29 57  6 87 69 69]\n",
            " [72 34 78 47 31 13 48 51 72 12]\n",
            " [76 92 98 37 21 96 94  3 62 16]\n",
            " [23 99 10 40 96 95  7 19 64 20]\n",
            " [ 0 10 72 68 71 48 89 46 54 75]\n",
            " [ 7 79 97 27 38 86 38 34 42 91]]\n",
            "99\n",
            "0\n"
          ]
        }
      ],
      "source": [
        "h = np.random.randint(0,100,(10,10))\n",
        "print (h)\n",
        "h_max = h.max()\n",
        "h_min = h.min()\n",
        "print (h_max)\n",
        "print (h_min)"
      ]
    },
    {
      "cell_type": "markdown",
      "metadata": {
        "id": "wP0f-vI7aRqh"
      },
      "source": [
        "**9- Birlerden oluşan 5x3 matrisi birlerden oluşan 3x2 matrisle çarpın**"
      ]
    },
    {
      "cell_type": "code",
      "execution_count": 10,
      "metadata": {
        "id": "-9tkg03RaU42"
      },
      "outputs": [
        {
          "name": "stdout",
          "output_type": "stream",
          "text": [
            "[[3. 3.]\n",
            " [3. 3.]\n",
            " [3. 3.]\n",
            " [3. 3.]\n",
            " [3. 3.]]\n"
          ]
        }
      ],
      "source": [
        "x = np.ones((5,3))\n",
        "y = np.ones((3,2))\n",
        "result = x @ y\n",
        "\n",
        "print(result)"
      ]
    },
    {
      "cell_type": "markdown",
      "metadata": {
        "id": "q5U2xRstaVDO"
      },
      "source": [
        "**10- Her bir satırı 0 1 2 3 4 arrayinden oluşan 5x5 matris oluşturun**"
      ]
    },
    {
      "cell_type": "code",
      "execution_count": 11,
      "metadata": {
        "id": "zZDob6neaXSH"
      },
      "outputs": [
        {
          "name": "stdout",
          "output_type": "stream",
          "text": [
            "[[0 1 2 3 4]\n",
            " [0 1 2 3 4]\n",
            " [0 1 2 3 4]\n",
            " [0 1 2 3 4]\n",
            " [0 1 2 3 4]]\n"
          ]
        }
      ],
      "source": [
        "z = np.full((5, 5), np.arange(5))\n",
        "print(z)\n"
      ]
    },
    {
      "cell_type": "markdown",
      "metadata": {
        "id": "-iYZxmpaaXcg"
      },
      "source": [
        "**11- 10 elemanlı rastgele bir array oluşturun ve küçükten büyüğe sıralayın**"
      ]
    },
    {
      "cell_type": "code",
      "execution_count": 13,
      "metadata": {
        "id": "SCVZDqzlaaWi"
      },
      "outputs": [
        {
          "name": "stdout",
          "output_type": "stream",
          "text": [
            "[0.23747455 0.51869634 0.88762883 0.00675117 0.18655914 0.05130153\n",
            " 0.05591854 0.80835225 0.52720192 0.34121829]\n",
            "[0.00675117 0.05130153 0.05591854 0.18655914 0.23747455 0.34121829\n",
            " 0.51869634 0.52720192 0.80835225 0.88762883]\n"
          ]
        }
      ],
      "source": [
        "arr = np.random.random(10)\n",
        "print (arr)\n",
        "sorted_arr = np.sort(arr)\n",
        "print (sorted_arr)"
      ]
    }
  ],
  "metadata": {
    "colab": {
      "provenance": []
    },
    "kernelspec": {
      "display_name": "Python 3",
      "name": "python3"
    },
    "language_info": {
      "codemirror_mode": {
        "name": "ipython",
        "version": 3
      },
      "file_extension": ".py",
      "mimetype": "text/x-python",
      "name": "python",
      "nbconvert_exporter": "python",
      "pygments_lexer": "ipython3",
      "version": "3.12.4"
    }
  },
  "nbformat": 4,
  "nbformat_minor": 0
}
