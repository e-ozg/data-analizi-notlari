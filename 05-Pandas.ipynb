{
 "cells": [
  {
   "cell_type": "markdown",
   "metadata": {},
   "source": [
    "# Pandas\n",
    "Pandas, Python programlama dilinde veri analizi ve manipülasyonu için kullanılan güçlü ve esnek bir kütüphanedir. Özellikle büyük veri setleri ile çalışırken veriyi düzenleme, temizleme, analiz etme ve görselleştirme gibi işlemleri kolaylaştırır. Pandas'ın temel veri yapıları Seriler (Series) ve Veri Çerçeveleri (DataFrames) olarak ikiye ayrılır."
   ]
  },
  {
   "cell_type": "code",
   "execution_count": 2,
   "metadata": {},
   "outputs": [],
   "source": [
    "import pandas as pd"
   ]
  },
  {
   "cell_type": "markdown",
   "metadata": {},
   "source": [
    "### Seriler ve Seri Oluşturma\n",
    "\n",
    "Seriler, tek bir veri tipinden oluşan (sayılar, metinler, Booleans vb.) ve her bir elemanının bir etiketi (index) olan bir veri yapısıdır.\n",
    "pd.Series([veri_listesi]) şeklinde oluşturulur.\n",
    "Özellikler:\n",
    "index: Her bir elemanın etiketini verir.\n",
    "values: Serinin tüm değerlerini bir NumPy dizisi olarak döndürür."
   ]
  },
  {
   "cell_type": "code",
   "execution_count": 3,
   "metadata": {},
   "outputs": [
    {
     "data": {
      "text/plain": [
       "0    12\n",
       "1    34\n",
       "2    56\n",
       "3    78\n",
       "dtype: int64"
      ]
     },
     "execution_count": 3,
     "metadata": {},
     "output_type": "execute_result"
    }
   ],
   "source": [
    "x = pd.Series([12,34,56,78])\n",
    "# Bu kod, 12, 34, 56, 78 sayılarından oluşan bir seri oluşturur.\n",
    "x\n"
   ]
  },
  {
   "cell_type": "markdown",
   "metadata": {},
   "source": [
    "#### Creating Series From An Array"
   ]
  },
  {
   "cell_type": "code",
   "execution_count": null,
   "metadata": {},
   "outputs": [],
   "source": [
    "# import pandas as pd\n",
    "import pandas as pd\n",
    "\n",
    "# import numpy as np\n",
    "import numpy as np\n",
    "\n",
    "# simple array\n",
    "data = np.array(['g', 'e', 'e', 'k', 's'])\n",
    "\n",
    "ser = pd.Series(data)\n",
    "print(ser)\n"
   ]
  },
  {
   "cell_type": "markdown",
   "metadata": {},
   "source": [
    "##### With An Index"
   ]
  },
  {
   "cell_type": "code",
   "execution_count": null,
   "metadata": {},
   "outputs": [],
   "source": [
    "# import pandas as pd\n",
    "import pandas as pd\n",
    "\n",
    "# import numpy as np\n",
    "import numpy as np\n",
    "\n",
    "# simple array\n",
    "data = np.array(['g', 'e', 'e', 'k', 's'])\n",
    "\n",
    "# providing an index\n",
    "ser = pd.Series(data, index=[10, 11, 12, 13, 14])\n",
    "print(ser)\n"
   ]
  },
  {
   "cell_type": "markdown",
   "metadata": {},
   "source": [
    "#### Creating Series From A List"
   ]
  },
  {
   "cell_type": "markdown",
   "metadata": {},
   "source": [
    "> pandas.Series(data=None, index=None, dtype=None, name=None, copy=False)\n",
    "data\tContains data that will be saved in Series.\n",
    "index\tIndex values must have the same length as data and be hashable. If no index value is specified, values ranging from 0, 1, 2,..., n-1 are the default.\n",
    "dtype\tIt is used to specify the data type that will be stored in the series object.\n",
    "name\tAssigns the name to the pandas series object.\n",
    "copy\tIt accepts a Boolean value as input, set to False by default. It is used to determine whether or not to replicate input data."
   ]
  },
  {
   "cell_type": "code",
   "execution_count": 34,
   "metadata": {},
   "outputs": [
    {
     "name": "stdout",
     "output_type": "stream",
     "text": [
      "0    g\n",
      "1    e\n",
      "2    e\n",
      "3    k\n",
      "4    s\n",
      "dtype: object\n"
     ]
    }
   ],
   "source": [
    "import pandas as pd\n",
    "\n",
    "# a simple list\n",
    "list = ['g', 'e', 'e', 'k', 's']\n",
    "\n",
    "# create series form a list\n",
    "ser = pd.Series(list)\n",
    "print(ser)\n"
   ]
  },
  {
   "cell_type": "markdown",
   "metadata": {},
   "source": [
    "#### Creating Series From A Dictionary"
   ]
  },
  {
   "cell_type": "code",
   "execution_count": 33,
   "metadata": {},
   "outputs": [
    {
     "name": "stdout",
     "output_type": "stream",
     "text": [
      "Geeks    10\n",
      "for      20\n",
      "geeks    30\n",
      "dtype: int64\n",
      "Geeks    10\n",
      "for      20\n",
      "geeks    30\n",
      "dtype: int64\n"
     ]
    }
   ],
   "source": [
    "import pandas as pd\n",
    "\n",
    "# a simple dictionary\n",
    "dict = {'Geeks': 10,\n",
    "\t\t'for': 20,\n",
    "\t\t'geeks': 30}\n",
    "\n",
    "# create series from dictionary\n",
    "ser = pd.Series(dict)\n",
    "\n",
    "print (ser)"
   ]
  },
  {
   "cell_type": "markdown",
   "metadata": {},
   "source": [
    "#### Creating Series From Scalar Value\n",
    "\n"
   ]
  },
  {
   "cell_type": "code",
   "execution_count": 35,
   "metadata": {},
   "outputs": [
    {
     "name": "stdout",
     "output_type": "stream",
     "text": [
      "0    10\n",
      "1    10\n",
      "2    10\n",
      "3    10\n",
      "4    10\n",
      "5    10\n",
      "dtype: int64\n"
     ]
    }
   ],
   "source": [
    "import pandas as pd\n",
    "\n",
    "# giving a scalar value with index\n",
    "ser = pd.Series(10, index=[0, 1, 2, 3, 4, 5])\n",
    "\n",
    "print(ser)\n"
   ]
  },
  {
   "cell_type": "markdown",
   "metadata": {},
   "source": [
    "#### Creating Series Using NumPy and Range Functions"
   ]
  },
  {
   "cell_type": "code",
   "execution_count": 46,
   "metadata": {},
   "outputs": [
    {
     "name": "stdout",
     "output_type": "stream",
     "text": [
      "0     3.0\n",
      "1    18.0\n",
      "2    33.0\n",
      "dtype: float64\n",
      "0     3.0\n",
      "1    18.0\n",
      "2    33.0\n",
      "dtype: float64\n",
      "0      1.0\n",
      "1     50.5\n",
      "2    100.0\n",
      "dtype: float64\n",
      "0    0\n",
      "1    1\n",
      "2    2\n",
      "3    3\n",
      "4    4\n",
      "5    5\n",
      "6    6\n",
      "dtype: int64\n"
     ]
    }
   ],
   "source": [
    "import numpy as np\n",
    "# series with numpy linspace()\n",
    "ser1 = pd.Series(np.linspace(3, 33, 3))\n",
    "print(ser1)\n",
    "\n",
    "# series with numpy linspace()\n",
    "ser2 = pd.Series(np.linspace(1, 100, 3))\n",
    "print(ser1)\n",
    "print(ser2)\n",
    "\n",
    "ser=pd.Series(range(7))\n",
    "print(ser)\n"
   ]
  },
  {
   "cell_type": "markdown",
   "metadata": {},
   "source": [
    "#### Creating a Series using for loop and list comprehension"
   ]
  },
  {
   "cell_type": "code",
   "execution_count": 42,
   "metadata": {},
   "outputs": [
    {
     "name": "stdout",
     "output_type": "stream",
     "text": [
      "a     1\n",
      "b     4\n",
      "c     7\n",
      "d    10\n",
      "e    13\n",
      "f    16\n",
      "g    19\n",
      "dtype: int64\n"
     ]
    }
   ],
   "source": [
    "import pandas as pd\n",
    "ser=pd.Series(range(1,20,3), index=[x for x in 'abcdefg'])\n",
    "print(ser)\n"
   ]
  },
  {
   "cell_type": "markdown",
   "metadata": {},
   "source": [
    "### İndisler\n",
    "\n",
    "Serilerin her bir elemanının konumunu belirleyen etiketlerdir. Varsayılan olarak 0'dan başlayan tam sayılarla indekslenir, ancak isteğe bağlı olarak farklı etiketler (örneğin, isimler, tarihler) kullanılabilir.\n",
    "Atama: index özelliği ile indeksler değiştirilebilir."
   ]
  },
  {
   "cell_type": "code",
   "execution_count": 4,
   "metadata": {},
   "outputs": [
    {
     "name": "stdout",
     "output_type": "stream",
     "text": [
      "Arda     90\n",
      "Beyza    75\n",
      "Cansu    85\n",
      "Deniz    89\n",
      "Name: Yazili notlari, dtype: int64\n"
     ]
    }
   ],
   "source": [
    "basari_notlari = [90, 75, 85, 89]\n",
    "indisler = ['Arda', 'Beyza', 'Cansu', 'Deniz']\n",
    "ogrenci_bn = pd.Series(basari_notlari, name='Yazili notlari', index= indisler)\n",
    "print (ogrenci_bn)"
   ]
  },
  {
   "cell_type": "code",
   "execution_count": 5,
   "metadata": {},
   "outputs": [
    {
     "name": "stdout",
     "output_type": "stream",
     "text": [
      "En yuksek notu alan kisi: Arda tebrikler! Notu: 90\n"
     ]
    }
   ],
   "source": [
    "print(f'En yuksek notu alan kisi: {ogrenci_bn.idxmax()} tebrikler! Notu: {ogrenci_bn.max()}')"
   ]
  },
  {
   "cell_type": "code",
   "execution_count": 6,
   "metadata": {},
   "outputs": [
    {
     "name": "stdout",
     "output_type": "stream",
     "text": [
      "En dusuk notu alan kisi: Beyza. Notu: 75\n"
     ]
    }
   ],
   "source": [
    "print(f'En dusuk notu alan kisi: {ogrenci_bn.idxmin()}. Notu: {ogrenci_bn.min()}')"
   ]
  },
  {
   "cell_type": "code",
   "execution_count": 7,
   "metadata": {},
   "outputs": [
    {
     "name": "stdout",
     "output_type": "stream",
     "text": [
      "Index(['Arda', 'Beyza', 'Cansu', 'Deniz'], dtype='object')\n"
     ]
    }
   ],
   "source": [
    "print (ogrenci_bn.index)"
   ]
  },
  {
   "cell_type": "code",
   "execution_count": 23,
   "metadata": {},
   "outputs": [
    {
     "data": {
      "text/plain": [
       "pandas.core.indexes.base.Index"
      ]
     },
     "execution_count": 23,
     "metadata": {},
     "output_type": "execute_result"
    }
   ],
   "source": [
    "type(ogrenci_bn.index)"
   ]
  },
  {
   "cell_type": "code",
   "execution_count": 24,
   "metadata": {},
   "outputs": [
    {
     "name": "stdout",
     "output_type": "stream",
     "text": [
      "[90 75 85 89]\n"
     ]
    }
   ],
   "source": [
    "print (ogrenci_bn.values)"
   ]
  },
  {
   "cell_type": "code",
   "execution_count": 25,
   "metadata": {},
   "outputs": [
    {
     "name": "stdout",
     "output_type": "stream",
     "text": [
      "0       12\n",
      "1       34\n",
      "2       45\n",
      "3       56\n",
      "4       67\n",
      "5     True\n",
      "6    False\n",
      "dtype: object\n"
     ]
    }
   ],
   "source": [
    "y = pd.Series([12,34,45,56,67, True, 'False'])\n",
    "print(y)"
   ]
  },
  {
   "cell_type": "code",
   "execution_count": 26,
   "metadata": {},
   "outputs": [
    {
     "name": "stdout",
     "output_type": "stream",
     "text": [
      "<class 'pandas.core.series.Series'>\n"
     ]
    }
   ],
   "source": [
    "print(type(y))"
   ]
  },
  {
   "cell_type": "markdown",
   "metadata": {},
   "source": [
    "Aşağıda kodun döndürdüğünün anlamı:\n",
    "Series'in indeksinin 0'dan başlayıp 6'ya kadar giden (toplam 7 eleman), artış miktarı 1 olan ardışık tam sayılardan oluştuğunu gösterir. Yani, her bir eleman sırasıyla 0, 1, 2, 3, 4, 5, 6 indekslerine sahiptir.\n",
    "Varsayılan İndeks: Eğer Series oluşturulurken özel bir indeks belirtilmezse, Pandas otomatik olarak 0'dan başlayıp eleman sayısı kadar giden tam sayılardan oluşan bir indeks oluşturur.\n",
    "Farklı Veri Tipleri: Series'te farklı veri tipleri olmasına rağmen, indeks her zaman sayısal bir dizidir. Bu, her bir elemanın konumunu belirlemek için kullanılan bir referans noktasıdır."
   ]
  },
  {
   "cell_type": "code",
   "execution_count": 27,
   "metadata": {},
   "outputs": [
    {
     "name": "stdout",
     "output_type": "stream",
     "text": [
      "RangeIndex(start=0, stop=7, step=1)\n"
     ]
    }
   ],
   "source": [
    "print(y.index)"
   ]
  },
  {
   "cell_type": "code",
   "execution_count": 30,
   "metadata": {},
   "outputs": [
    {
     "name": "stdout",
     "output_type": "stream",
     "text": [
      "<class 'pandas.core.series.Series'>\n"
     ]
    }
   ],
   "source": [
    "print (type(ogrenci_bn))"
   ]
  },
  {
   "cell_type": "code",
   "execution_count": 31,
   "metadata": {},
   "outputs": [
    {
     "name": "stdout",
     "output_type": "stream",
     "text": [
      "Index(['Arda', 'Beyza', 'Cansu', 'Deniz'], dtype='object')\n"
     ]
    }
   ],
   "source": [
    "print (ogrenci_bn.index)"
   ]
  },
  {
   "cell_type": "markdown",
   "metadata": {},
   "source": [
    "y.index ile ogrenci.bn index çıktısının arasındaki fark birinde özel diğerinde varsayılan indeks kullanılmış olması. Belirtilen indisler listesindeki değerler, Series'in indeksini oluşturup her bir notun hangi öğrenciye ait olduğu belirtilmiş oluyor."
   ]
  },
  {
   "cell_type": "markdown",
   "metadata": {},
   "source": [
    "### Veri Seçimi\n",
    "\n",
    "Veri Tipleri: Pandas, farklı veri tiplerini (sayılar, metinler, tarihler vb.) aynı seri içinde tutabilir.\n",
    "Eksik Veriler: Pandas, eksik verilerle (NaN) çalışmak için çeşitli yöntemler sunar.\n",
    "Veri Çerçeveleri: Serilerin iki boyutlu hale getirilmiş halidir ve daha karmaşık veri yapılarını temsil eder."
   ]
  },
  {
   "cell_type": "code",
   "execution_count": 8,
   "metadata": {},
   "outputs": [
    {
     "name": "stdout",
     "output_type": "stream",
     "text": [
      "90\n"
     ]
    }
   ],
   "source": [
    "# Etiket ile: seri['etiket'] şeklinde belirli bir etikete ait değeri seçer.\n",
    "print(ogrenci_bn['Arda'])"
   ]
  },
  {
   "cell_type": "code",
   "execution_count": 9,
   "metadata": {},
   "outputs": [
    {
     "name": "stdout",
     "output_type": "stream",
     "text": [
      "89\n"
     ]
    }
   ],
   "source": [
    "# Konum ile: seri.iloc[konum] şeklinde konumuna göre değeri seçer.\n",
    "\n",
    "print(ogrenci_bn.iloc[3])"
   ]
  },
  {
   "cell_type": "code",
   "execution_count": 10,
   "metadata": {},
   "outputs": [
    {
     "name": "stdout",
     "output_type": "stream",
     "text": [
      "Beyza    75\n",
      "Cansu    85\n",
      "Name: Yazili notlari, dtype: int64\n"
     ]
    }
   ],
   "source": [
    "# Slicing: seri[başlangıç:bitiş] şeklinde birden fazla değeri seçer.\n",
    "print(ogrenci_bn[1:3])"
   ]
  },
  {
   "cell_type": "markdown",
   "metadata": {},
   "source": [
    "### İşlemler"
   ]
  },
  {
   "cell_type": "code",
   "execution_count": 11,
   "metadata": {},
   "outputs": [
    {
     "name": "stdout",
     "output_type": "stream",
     "text": [
      "Arda     100\n",
      "Beyza     85\n",
      "Name: Yazili notlari, dtype: int64\n"
     ]
    }
   ],
   "source": [
    "print(ogrenci_bn[['Arda', 'Beyza']] + 10)"
   ]
  },
  {
   "cell_type": "code",
   "execution_count": 12,
   "metadata": {},
   "outputs": [
    {
     "name": "stdout",
     "output_type": "stream",
     "text": [
      "En yuksek notu alan kisi: Arda tebrikler! Notu: 90\n"
     ]
    }
   ],
   "source": [
    "print(f'En yuksek notu alan kisi: {ogrenci_bn.idxmax()} tebrikler! Notu: {ogrenci_bn.max()}')"
   ]
  },
  {
   "cell_type": "code",
   "execution_count": 13,
   "metadata": {},
   "outputs": [
    {
     "data": {
      "text/plain": [
       "Arda     90\n",
       "Beyza    75\n",
       "Cansu    85\n",
       "Deniz    89\n",
       "Name: Yazili notlari, dtype: int64"
      ]
     },
     "execution_count": 13,
     "metadata": {},
     "output_type": "execute_result"
    }
   ],
   "source": [
    "ogrenci_bn"
   ]
  },
  {
   "cell_type": "code",
   "execution_count": 14,
   "metadata": {},
   "outputs": [
    {
     "name": "stdout",
     "output_type": "stream",
     "text": [
      "0       12\n",
      "1       34\n",
      "2       45\n",
      "3       56\n",
      "4       67\n",
      "5     True\n",
      "6    False\n",
      "dtype: object\n"
     ]
    }
   ],
   "source": [
    "y = pd.Series([12,34,45,56,67, True, 'False'])\n",
    "print(y)"
   ]
  }
 ],
 "metadata": {
  "kernelspec": {
   "display_name": "base",
   "language": "python",
   "name": "python3"
  },
  "language_info": {
   "codemirror_mode": {
    "name": "ipython",
    "version": 3
   },
   "file_extension": ".py",
   "mimetype": "text/x-python",
   "name": "python",
   "nbconvert_exporter": "python",
   "pygments_lexer": "ipython3",
   "version": "3.12.4"
  }
 },
 "nbformat": 4,
 "nbformat_minor": 2
}
