{
  "nbformat": 4,
  "nbformat_minor": 0,
  "metadata": {
    "colab": {
      "provenance": []
    },
    "kernelspec": {
      "name": "python3",
      "display_name": "Python 3"
    },
    "language_info": {
      "name": "python"
    }
  },
  "cells": [
    {
      "cell_type": "markdown",
      "source": [
        "https://raw.githubusercontent.com/zaferdemirkol/HerkesIcinYapayZeka/main/nba.csv"
      ],
      "metadata": {
        "id": "JdDFk7zXN-ZR"
      }
    },
    {
      "cell_type": "markdown",
      "source": [
        "**1- Son 5 kaydı getirin**"
      ],
      "metadata": {
        "id": "RFU-yRtU6S6n"
      }
    },
    {
      "cell_type": "code",
      "source": [
        "import pandas as pd\n",
        "import numpy as np\n",
        "\n",
        "# Veri setini oku\n",
        "nba = pd.read_csv('https://raw.githubusercontent.com/zaferdemirkol/HerkesIcinYapayZeka/main/nba.csv')\n",
        "\n",
        "# İlk 5 satırı görüntüle\n",
        "# print(nba.head())\n",
        "\n",
        "# Son 5 satırı görüntüle\n",
        "print(nba.tail(5))"
      ],
      "metadata": {
        "id": "k9OjYy5t6fQt",
        "colab": {
          "base_uri": "https://localhost:8080/"
        },
        "outputId": "6ab37e42-ed38-4a59-da91-726b87d2999a"
      },
      "execution_count": 5,
      "outputs": [
        {
          "output_type": "stream",
          "name": "stdout",
          "text": [
            "             Name       Team  Number Position   Age Height  Weight College  \\\n",
            "453  Shelvin Mack  Utah Jazz     8.0       PG  26.0    6-3   203.0  Butler   \n",
            "454     Raul Neto  Utah Jazz    25.0       PG  24.0    6-1   179.0     NaN   \n",
            "455  Tibor Pleiss  Utah Jazz    21.0        C  26.0    7-3   256.0     NaN   \n",
            "456   Jeff Withey  Utah Jazz    24.0        C  26.0    7-0   231.0  Kansas   \n",
            "457           NaN        NaN     NaN      NaN   NaN    NaN     NaN     NaN   \n",
            "\n",
            "        Salary  \n",
            "453  2433333.0  \n",
            "454   900000.0  \n",
            "455  2900000.0  \n",
            "456   947276.0  \n",
            "457        NaN  \n"
          ]
        }
      ]
    },
    {
      "cell_type": "markdown",
      "source": [
        "**2- Sütunları getirin**"
      ],
      "metadata": {
        "id": "tDB7cieW6bnR"
      }
    },
    {
      "cell_type": "code",
      "source": [
        "# İstenen hangisi anlamadım.\n",
        "# 1-\n",
        "print (nba.columns)\n",
        "# 2-\n",
        "columns = nba[:]\n",
        "print (columns)"
      ],
      "metadata": {
        "id": "MMSmXjkc6h1f",
        "colab": {
          "base_uri": "https://localhost:8080/"
        },
        "outputId": "a04f6c52-30f3-43aa-f34f-442013c126da"
      },
      "execution_count": 7,
      "outputs": [
        {
          "output_type": "stream",
          "name": "stdout",
          "text": [
            "Index(['Name', 'Team', 'Number', 'Position', 'Age', 'Height', 'Weight',\n",
            "       'College', 'Salary'],\n",
            "      dtype='object')\n",
            "              Name            Team  Number Position   Age Height  Weight  \\\n",
            "0    Avery Bradley  Boston Celtics     0.0       PG  25.0    6-2   180.0   \n",
            "1      Jae Crowder  Boston Celtics    99.0       SF  25.0    6-6   235.0   \n",
            "2     John Holland  Boston Celtics    30.0       SG  27.0    6-5   205.0   \n",
            "3      R.J. Hunter  Boston Celtics    28.0       SG  22.0    6-5   185.0   \n",
            "4    Jonas Jerebko  Boston Celtics     8.0       PF  29.0   6-10   231.0   \n",
            "..             ...             ...     ...      ...   ...    ...     ...   \n",
            "453   Shelvin Mack       Utah Jazz     8.0       PG  26.0    6-3   203.0   \n",
            "454      Raul Neto       Utah Jazz    25.0       PG  24.0    6-1   179.0   \n",
            "455   Tibor Pleiss       Utah Jazz    21.0        C  26.0    7-3   256.0   \n",
            "456    Jeff Withey       Utah Jazz    24.0        C  26.0    7-0   231.0   \n",
            "457            NaN             NaN     NaN      NaN   NaN    NaN     NaN   \n",
            "\n",
            "               College     Salary  \n",
            "0                Texas  7730337.0  \n",
            "1            Marquette  6796117.0  \n",
            "2    Boston University        NaN  \n",
            "3        Georgia State  1148640.0  \n",
            "4                  NaN  5000000.0  \n",
            "..                 ...        ...  \n",
            "453             Butler  2433333.0  \n",
            "454                NaN   900000.0  \n",
            "455                NaN  2900000.0  \n",
            "456             Kansas   947276.0  \n",
            "457                NaN        NaN  \n",
            "\n",
            "[458 rows x 9 columns]\n"
          ]
        }
      ]
    },
    {
      "cell_type": "markdown",
      "source": [
        "**3- Son 3 kaydın \"Salary\", \"Team\", \"Name\" alanlarını getirin**"
      ],
      "metadata": {
        "id": "TKr7Tmn16iKb"
      }
    },
    {
      "cell_type": "code",
      "source": [
        "last_three_records = nba.tail(3)[['Salary', 'Team', 'Name']]\n",
        "print(last_three_records)\n",
        "\n",
        "last_three_records2 = nba.iloc[-3:][['Salary', 'Team', 'Name']]\n",
        "print(last_three_records2)\n",
        "\n",
        "last_three_records3 = nba.loc[len(nba)-3:][['Salary', 'Team', 'Name']]\n",
        "print(last_three_records3)"
      ],
      "metadata": {
        "id": "2lnN1dpY6j4H",
        "colab": {
          "base_uri": "https://localhost:8080/"
        },
        "outputId": "7061cb31-76fb-4f95-f071-8e312bb85fef"
      },
      "execution_count": 11,
      "outputs": [
        {
          "output_type": "stream",
          "name": "stdout",
          "text": [
            "        Salary       Team          Name\n",
            "455  2900000.0  Utah Jazz  Tibor Pleiss\n",
            "456   947276.0  Utah Jazz   Jeff Withey\n",
            "457        NaN        NaN           NaN\n",
            "        Salary       Team          Name\n",
            "455  2900000.0  Utah Jazz  Tibor Pleiss\n",
            "456   947276.0  Utah Jazz   Jeff Withey\n",
            "457        NaN        NaN           NaN\n",
            "        Salary       Team          Name\n",
            "455  2900000.0  Utah Jazz  Tibor Pleiss\n",
            "456   947276.0  Utah Jazz   Jeff Withey\n",
            "457        NaN        NaN           NaN\n"
          ]
        }
      ]
    },
    {
      "cell_type": "markdown",
      "source": [
        "**4- \"Sport\" isminde yeni bir sütun oluşturun ve bu sütunun bütün değerlerini \"Basketball\" yapın**"
      ],
      "metadata": {
        "id": "vmZP_0kW6kLw"
      }
    },
    {
      "cell_type": "code",
      "source": [
        "nba['Sport'] = \"Basketball\"\n",
        "print (nba.head())"
      ],
      "metadata": {
        "id": "9r_qMlQk6lxx",
        "colab": {
          "base_uri": "https://localhost:8080/"
        },
        "outputId": "b44e963c-59ea-4ebf-df04-4c714ad2e09a"
      },
      "execution_count": 14,
      "outputs": [
        {
          "output_type": "stream",
          "name": "stdout",
          "text": [
            "            Name            Team  Number Position   Age Height  Weight  \\\n",
            "0  Avery Bradley  Boston Celtics     0.0       PG  25.0    6-2   180.0   \n",
            "1    Jae Crowder  Boston Celtics    99.0       SF  25.0    6-6   235.0   \n",
            "2   John Holland  Boston Celtics    30.0       SG  27.0    6-5   205.0   \n",
            "3    R.J. Hunter  Boston Celtics    28.0       SG  22.0    6-5   185.0   \n",
            "4  Jonas Jerebko  Boston Celtics     8.0       PF  29.0   6-10   231.0   \n",
            "\n",
            "             College     Salary       Sport  \n",
            "0              Texas  7730337.0  Basketball  \n",
            "1          Marquette  6796117.0  Basketball  \n",
            "2  Boston University        NaN  Basketball  \n",
            "3      Georgia State  1148640.0  Basketball  \n",
            "4                NaN  5000000.0  Basketball  \n"
          ]
        }
      ]
    },
    {
      "cell_type": "markdown",
      "source": [
        "**5- \"league\" isminde yeni bir sütun oluşturun ve bütün değerlerini \"National Basketball Association\" yapın**"
      ],
      "metadata": {
        "id": "tA-qQKwS6lgM"
      }
    },
    {
      "cell_type": "code",
      "source": [
        "nba['League'] = \"National Basketball Association\"\n",
        "print (nba.head())"
      ],
      "metadata": {
        "id": "3FtwTrUn6pzj",
        "colab": {
          "base_uri": "https://localhost:8080/"
        },
        "outputId": "2ec6f252-b4eb-4521-b7b3-7f25e0e613ac"
      },
      "execution_count": 15,
      "outputs": [
        {
          "output_type": "stream",
          "name": "stdout",
          "text": [
            "            Name            Team  Number Position   Age Height  Weight  \\\n",
            "0  Avery Bradley  Boston Celtics     0.0       PG  25.0    6-2   180.0   \n",
            "1    Jae Crowder  Boston Celtics    99.0       SF  25.0    6-6   235.0   \n",
            "2   John Holland  Boston Celtics    30.0       SG  27.0    6-5   205.0   \n",
            "3    R.J. Hunter  Boston Celtics    28.0       SG  22.0    6-5   185.0   \n",
            "4  Jonas Jerebko  Boston Celtics     8.0       PF  29.0   6-10   231.0   \n",
            "\n",
            "             College     Salary       Sport                           League  \n",
            "0              Texas  7730337.0  Basketball  National Basketball Association  \n",
            "1          Marquette  6796117.0  Basketball  National Basketball Association  \n",
            "2  Boston University        NaN  Basketball  National Basketball Association  \n",
            "3      Georgia State  1148640.0  Basketball  National Basketball Association  \n",
            "4                NaN  5000000.0  Basketball  National Basketball Association  \n"
          ]
        }
      ]
    },
    {
      "cell_type": "markdown",
      "source": [
        "**6- \"Weight in Kilograms\" isminde bir sütun oluşturun ve bu sütunun değerlerini \"Weight\" sütunlarını 0.453 ile çarpılmış olarak ekleyin**"
      ],
      "metadata": {
        "id": "OLcv49wD6qPz"
      }
    },
    {
      "cell_type": "code",
      "source": [],
      "metadata": {
        "id": "vk8Fwfa37J7W"
      },
      "execution_count": null,
      "outputs": []
    },
    {
      "cell_type": "markdown",
      "source": [
        "**7- NaN verilerini çıkarın**"
      ],
      "metadata": {
        "id": "FMHnXlya63HE"
      }
    },
    {
      "cell_type": "code",
      "source": [],
      "metadata": {
        "id": "wiw0Fko07JYZ"
      },
      "execution_count": null,
      "outputs": []
    },
    {
      "cell_type": "markdown",
      "source": [
        "**8- NaN verilerini 0 ile doldurun**"
      ],
      "metadata": {
        "id": "6qDi0S_U6_Lt"
      }
    },
    {
      "cell_type": "code",
      "source": [],
      "metadata": {
        "id": "XlqNuXt77AMb"
      },
      "execution_count": null,
      "outputs": []
    },
    {
      "cell_type": "markdown",
      "source": [
        "**9- \"Name\", \"Age\" ve \"Salary\" e göre sıralama yapın**"
      ],
      "metadata": {
        "id": "lfW4I2Tn7AgA"
      }
    },
    {
      "cell_type": "code",
      "source": [],
      "metadata": {
        "id": "6VDV7Cxt7I9K"
      },
      "execution_count": null,
      "outputs": []
    }
  ]
}