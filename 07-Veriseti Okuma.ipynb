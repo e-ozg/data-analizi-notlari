{
 "cells": [
  {
   "cell_type": "markdown",
   "metadata": {},
   "source": [
    "# VeriSeti Okuma"
   ]
  },
  {
   "cell_type": "code",
   "execution_count": 1,
   "metadata": {},
   "outputs": [],
   "source": [
    "import numpy as np\n",
    "import pandas as pd"
   ]
  },
  {
   "cell_type": "markdown",
   "metadata": {},
   "source": [
    "Alttaki kod pandas kütüphanesini kullanarak \"ogrenciler.xlsx\" adlı bir Excel dosyasını okuyup, elde edilen verileri Pandas DataFrame'e aktarıyor.\n",
    "\n",
    "index_col=0: Bu parametre, DataFrame'in indeks sütununu belirtir. Yani, Excel dosyasındaki ilk sütun (sıfırıncı indeks) DataFrame'in indeks sütunu olarak ayarlanır. İndeks, her bir satırı benzersiz bir şekilde tanımlamak için kullanılır."
   ]
  },
  {
   "cell_type": "code",
   "execution_count": 2,
   "metadata": {},
   "outputs": [
    {
     "name": "stdout",
     "output_type": "stream",
     "text": [
      "     isim  yazılı  sözlü  ortalama\n",
      "o1   Ayşe      66     90      75.6\n",
      "o2  Fatma      56     78      64.8\n",
      "o3  Hasan      70     80      74.0\n",
      "o4  Kemal      89     81      85.8\n",
      "o5   Suna      10     90      42.0\n",
      "o6  Özlem      78    100      86.8\n"
     ]
    }
   ],
   "source": [
    "df = pd.read_excel('ogrenciler.xlsx', index_col=0)\n",
    "print(df)"
   ]
  },
  {
   "cell_type": "markdown",
   "metadata": {},
   "source": [
    "### Satır ve Sütun Silme\n",
    "\n",
    "Pandas, genellikle etiketleri kullanarak satır veya sütunları siler. Bu durumda, ['o2'] listesi hem bir sütun hem de bir satır etiketini temsil edebilir. Eğer belirtilen etiket hem satır hem de sütun olarak mevcutsa, Pandas genellikle ilk bulduğu etikete göre işlem yapar. Bu genellikle satırları ifade eden indeksi temsil eder. Eğer kesinlikle bir sütunu silmek istiyorsak, axis=1 parametresini kullanarak bunu belirtmeliyiz. Eğer bir satırı silmek istiyorsak, axis=0 veya index parametresini kullanabiliriz."
   ]
  },
  {
   "cell_type": "code",
   "execution_count": 3,
   "metadata": {},
   "outputs": [
    {
     "name": "stdout",
     "output_type": "stream",
     "text": [
      "     isim  yazılı  sözlü  ortalama\n",
      "o1   Ayşe      66     90      75.6\n",
      "o3  Hasan      70     80      74.0\n",
      "o4  Kemal      89     81      85.8\n",
      "o5   Suna      10     90      42.0\n",
      "o6  Özlem      78    100      86.8\n"
     ]
    }
   ],
   "source": [
    "df2 = df.drop(['o2'])\n",
    "print(df2)"
   ]
  },
  {
   "cell_type": "code",
   "execution_count": 4,
   "metadata": {},
   "outputs": [
    {
     "name": "stdout",
     "output_type": "stream",
     "text": [
      "     isim  yazılı  sözlü  ortalama\n",
      "o1   Ayşe      66     90      75.6\n",
      "o2  Fatma      56     78      64.8\n",
      "o4  Kemal      89     81      85.8\n",
      "o5   Suna      10     90      42.0\n",
      "o6  Özlem      78    100      86.8\n"
     ]
    }
   ],
   "source": [
    "df3 = df.drop(\"o3\", axis=0)\n",
    "print (df3)"
   ]
  },
  {
   "cell_type": "code",
   "execution_count": 5,
   "metadata": {},
   "outputs": [
    {
     "name": "stdout",
     "output_type": "stream",
     "text": [
      "     isim  yazılı  sözlü\n",
      "o1   Ayşe      66     90\n",
      "o3  Hasan      70     80\n",
      "o4  Kemal      89     81\n",
      "o5   Suna      10     90\n",
      "o6  Özlem      78    100\n"
     ]
    }
   ],
   "source": [
    "df2 = df2.drop(['ortalama'], axis=1)\n",
    "print(df2)"
   ]
  },
  {
   "cell_type": "markdown",
   "metadata": {},
   "source": [
    "### Excel'e Indexsiz Veri Yazma\n",
    "\n",
    "df2.to_excel('indexsiz_tablo.xlsx'): Bu satır, df2 DataFrame'indeki verileri 'indexsiz_tablo.xlsx' adlı bir Excel dosyasına yazar.\n",
    "index=False: Bu parametre, Excel dosyasında indeks sütununun oluşturulmasını engeller. Yani, DataFrame'deki satırların solundaki indeks numaraları veya etiketleri Excel dosyasına yazdırılmaz."
   ]
  },
  {
   "cell_type": "code",
   "execution_count": 6,
   "metadata": {},
   "outputs": [],
   "source": [
    "df2.to_excel('indexsiz_tablo.xlsx', index=False)"
   ]
  },
  {
   "cell_type": "markdown",
   "metadata": {},
   "source": [
    "### Verilere Erişme"
   ]
  },
  {
   "cell_type": "code",
   "execution_count": null,
   "metadata": {},
   "outputs": [],
   "source": [
    "print(df.loc['o3':'o6']['isim']) \n",
    "#'o3' ile 'o6' arasındaki satırları seçip, bu satırlardan sadece 'isim' sütunundaki verileri alır ve ekrana yazdırır."
   ]
  },
  {
   "cell_type": "code",
   "execution_count": null,
   "metadata": {},
   "outputs": [],
   "source": [
    "print(df.iloc[1:3]['ortalama']) \n",
    "# df DataFrame'inden 1. ve 2. indeksli satırları seçer (sayısal indekse göre)  sadece 'ortalama' sütunundaki verileri alır"
   ]
  }
 ],
 "metadata": {
  "kernelspec": {
   "display_name": "base",
   "language": "python",
   "name": "python3"
  },
  "language_info": {
   "codemirror_mode": {
    "name": "ipython",
    "version": 3
   },
   "file_extension": ".py",
   "mimetype": "text/x-python",
   "name": "python",
   "nbconvert_exporter": "python",
   "pygments_lexer": "ipython3",
   "version": "3.12.4"
  }
 },
 "nbformat": 4,
 "nbformat_minor": 2
}
