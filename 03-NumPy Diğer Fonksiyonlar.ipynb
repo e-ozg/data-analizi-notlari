{
 "cells": [
  {
   "cell_type": "markdown",
   "metadata": {},
   "source": [
    "# NumPy Fonksiyonlar"
   ]
  },
  {
   "cell_type": "markdown",
   "metadata": {},
   "source": [
    "### ndim, shape ve size\n",
    "- **ndim:** Bir dizinin kaç boyutlu olduğunu belirtir. Sıradan bir liste tek boyutlu olduğu için ndim değeri 1'dir. Matrisler ise iki boyutlu olduğu için ndim değeri 2 olur.\n",
    "- **shape:** Bir dizinin her bir boyutunun uzunluğunu gösteren bir tuple'dır. Örneğin, shape değeri (3, 4) olan bir dizi 3 satır ve 4 sütundan oluşur.\n",
    "- **size:** Dizideki toplam eleman sayısını verir. Yani shape tuple'ındaki tüm değerlerin çarpımına eşittir."
   ]
  },
  {
   "cell_type": "code",
   "execution_count": 1,
   "metadata": {},
   "outputs": [
    {
     "name": "stdout",
     "output_type": "stream",
     "text": [
      "a.ndim: 1\n",
      "a.shape: (4,)\n",
      "a.size: 4\n",
      "b.ndim: 2\n",
      "b.shape: (2, 3)\n",
      "b.size: 6\n",
      "c.ndim: 3\n",
      "c.shape: (2, 2, 2)\n",
      "c.size: 8\n"
     ]
    }
   ],
   "source": [
    "import numpy as np\n",
    "\n",
    "# Tek boyutlu bir dizi\n",
    "a = np.array([1, 2, 3, 4])\n",
    "print(\"a.ndim:\", a.ndim)  # Çıktı: 1\n",
    "print(\"a.shape:\", a.shape)  # Çıktı: (4,)\n",
    "print(\"a.size:\", a.size)   # Çıktı: 4\n",
    "\n",
    "# İki boyutlu bir dizi (matris)\n",
    "b = np.array([[1, 2, 3], [4, 5, 6]])\n",
    "print(\"b.ndim:\", b.ndim)  # Çıktı: 2\n",
    "print(\"b.shape:\", b.shape)  # Çıktı: (2, 3)\n",
    "print(\"b.size:\", b.size)   # Çıktı: 6\n",
    "\n",
    "# Üç boyutlu bir dizi (tensor)\n",
    "c = np.array([[[1, 2], [3, 4]], [[5, 6], [7, 8]]])\n",
    "print(\"c.ndim:\", c.ndim)  # Çıktı: 3\n",
    "print(\"c.shape:\", c.shape)  # Çıktı: (2, 2, 2)\n",
    "print(\"c.size:\", c.size)   # Çıktı: 8"
   ]
  },
  {
   "cell_type": "markdown",
   "metadata": {},
   "source": [
    "### NumPy Dizisi Oluşturma Fonksiyonları"
   ]
  },
  {
   "cell_type": "markdown",
   "metadata": {},
   "source": [
    "### **Daha Fazla Özellik ve İşlem**\n",
    "\n",
    "- **dtype:** Dizideki elemanların veri tipini gösterir (int, float, bool vb.).\n",
    "- **itemsize:** Her bir elemanın bellekte kapladığı bayt sayısını verir.\n",
    "- **reshape():** Dizinin şeklini değiştirmek için kullanılır. Ancak toplam eleman sayısı aynı kalmalıdır.\n",
    "- **resize():** Dizinin boyutunu değiştirmek için kullanılır. Yeni boyut, mevcut eleman sayısından fazlaysa ek elemanlar sıfır veya belirtilen bir değerle doldurulur. Ancak bu metod, verilen diziyi yerinde değiştirir yani yeni bir dizi oluşturmaz. Bu nedenle dönüş değeri None'dır yani herhangi bir değer döndürmez.\n",
    "- **flatten():** Çok boyutlu bir diziyi tek boyutlu bir diziye dönüştürür."
   ]
  },
  {
   "cell_type": "code",
   "execution_count": 7,
   "metadata": {},
   "outputs": [
    {
     "name": "stdout",
     "output_type": "stream",
     "text": [
      "int32\n",
      "None\n",
      "[[[1 2]\n",
      "  [3 4]]\n",
      "\n",
      " [[5 6]\n",
      "  [7 8]]\n",
      "\n",
      " [[0 0]\n",
      "  [0 0]]\n",
      "\n",
      " [[0 0]\n",
      "  [0 0]]]\n"
     ]
    }
   ],
   "source": [
    "print (a.dtype)\n",
    "\n",
    "b_reshaped = b.reshape(3, 2)\n",
    "# print (b_reshaped)\n",
    "\n",
    "c_resized = c.resize(4, 2, 2) #Son iki eleman sıfırla doldurulur\n",
    "print (c_resized) # None döndürür çünkü\n",
    "# Yeni bir dizi oluşturmak ve orijinal diziyi değiştirmek istemiyorsak, \n",
    "# resize() yerine reshape() metodunu veya zeros() metodu ile yeni bir dizi oluşturup elemanları kopyalamak daha uygun olacaktır.\n",
    "# reshape() kullanımı\n",
    "\n",
    "c_resized = c.reshape(4, 2, 2)\n",
    "# zeros() kullanımı\n",
    "# c_resized = np.zeros((4, 2, 2))\n",
    "# c_resized[:2, :, :] = c\n",
    "\n",
    "c_flattened = c.flatten()\n",
    "# print (c_flattened)"
   ]
  },
  {
   "cell_type": "markdown",
   "metadata": {},
   "source": [
    "Access the third element of the second array of the first array:\n",
    "Example Explained\n",
    "arr[0, 1, 2] prints the value 6.\n",
    "\n",
    "And this is why:\n",
    "\n",
    "The first number represents the first dimension, which contains two arrays:\n",
    "[[1, 2, 3], [4, 5, 6]]\n",
    "and:\n",
    "[[7, 8, 9], [10, 11, 12]]\n",
    "Since we selected 0, we are left with the first array:\n",
    "[[1, 2, 3], [4, 5, 6]]\n",
    "\n",
    "The second number represents the second dimension, which also contains two arrays:\n",
    "[1, 2, 3]\n",
    "and:\n",
    "[4, 5, 6]\n",
    "Since we selected 1, we are left with the second array:\n",
    "[4, 5, 6]\n",
    "\n",
    "The third number represents the third dimension, which contains three values:\n",
    "4\n",
    "5\n",
    "6\n",
    "Since we selected 2, we end up with"
   ]
  },
  {
   "cell_type": "code",
   "execution_count": null,
   "metadata": {},
   "outputs": [],
   "source": [
    "\n",
    "arr = np.array([[[1, 2, 3], [4, 5, 6]], [[7, 8, 9], [10, 11, 12]]])\n",
    "\n",
    "print(arr[0, 1, 2])"
   ]
  }
 ],
 "metadata": {
  "kernelspec": {
   "display_name": "base",
   "language": "python",
   "name": "python3"
  },
  "language_info": {
   "codemirror_mode": {
    "name": "ipython",
    "version": 3
   },
   "file_extension": ".py",
   "mimetype": "text/x-python",
   "name": "python",
   "nbconvert_exporter": "python",
   "pygments_lexer": "ipython3",
   "version": "3.12.4"
  }
 },
 "nbformat": 4,
 "nbformat_minor": 2
}
