{
 "cells": [
  {
   "cell_type": "markdown",
   "metadata": {},
   "source": [
    "# NumPy'a Giriş"
   ]
  },
  {
   "cell_type": "markdown",
   "metadata": {},
   "source": [
    "**NumPy** (Numerical Python), Python programlama dilinde büyük, çok boyutlu diziler ve matrisler üzerinde çalışmak için tasarlanmış açık kaynaklı bir kütüphanedir. Bilimsel hesaplama, veri analizi ve makine öğrenimi gibi alanlarda sıklıkla kullanılır. NumPy, Python'ın yerleşik liste veri yapısına göre daha hızlı ve daha verimlidir. NumPy’ın özellikler:\n",
    "\n",
    "- **Hız:** NumPy, C dilinde yazıldığı için Python listelerine göre çok daha hızlıdır. Özellikle büyük veri kümeleri üzerinde çalışırken bu hız farkı oldukça önemlidir.\n",
    "- **Verimlilik:** NumPy, vektör ve matris işlemlerini tek bir işlemde gerçekleştirerek kodun daha okunaklı ve daha az karmaşık olmasını sağlar.\n",
    "- **Geniş Fonksiyonellik:** NumPy, matematiksel ve bilimsel hesaplamalar için çok çeşitli fonksiyonlar sunar. Bu fonksiyonlar sayesinde karmaşık işlemleri birkaç satır kodla gerçekleştirebilirsiniz."
   ]
  },
  {
   "cell_type": "markdown",
   "metadata": {},
   "source": [
    "### **NumPy'ın Temel Kavramları**\n",
    "\n",
    "- **ndarray (N-boyutlu dizi):** NumPy'ın temel veri yapısıdır. Birden fazla boyutlu sayısal verileri tutmak için kullanılır.\n",
    "- **Shape:** Bir dizinin boyutlarını belirten bir tuple'dır. Örneğin, (3, 4) şeklindeki bir dizi 3 satır ve 4 sütundan oluşur.\n",
    "- **Dtype:** Dizideki elemanların veri tipini belirtir (int, float, bool vb.)."
   ]
  },
  {
   "cell_type": "markdown",
   "metadata": {},
   "source": [
    "### Numpy Kurulumu\n",
    "\n",
    "Bilgisayara kurulumu yaptıktan sonra son sürüm için yapılması gereken, terminale pip install numpy yazmak."
   ]
  },
  {
   "cell_type": "markdown",
   "metadata": {},
   "source": [
    "### **NumPy İçe Aktarım**"
   ]
  },
  {
   "cell_type": "code",
   "execution_count": 2,
   "metadata": {},
   "outputs": [],
   "source": [
    "import numpy as np # type: ignore"
   ]
  },
  {
   "cell_type": "code",
   "execution_count": 3,
   "metadata": {},
   "outputs": [
    {
     "name": "stdout",
     "output_type": "stream",
     "text": [
      "[[0. 0. 0.]\n",
      " [0. 0. 0.]\n",
      " [0. 0. 0.]]\n"
     ]
    }
   ],
   "source": [
    "# Bir boyutlu dizi\n",
    "a = np.array([1, 2, 3, 4, 5])\n",
    "# İki boyutlu dizi, Bunun elemanları yani bir vektör. Yukarıda skalardı burada vektörlerden oluşuyor dizi.\n",
    "b = np.array([[1, 2, 3], [4, 5, 6]])\n",
    "# Sıfırlardan oluşan 3x3'lük bir dizi. \n",
    "c = np.zeros((3, 3))\n",
    "print (c)"
   ]
  },
  {
   "cell_type": "markdown",
   "metadata": {},
   "source": [
    "### **NumPy Dizileri Üzerinde İşlemler**\n",
    "\n",
    "NumPy dizileri üzerinde aritmetik işlemler, indeksleme, kesme ve daha birçok işlem yapılabilir."
   ]
  },
  {
   "cell_type": "code",
   "execution_count": 4,
   "metadata": {},
   "outputs": [
    {
     "name": "stdout",
     "output_type": "stream",
     "text": [
      "[ 2  4  6  8 10]\n",
      "3\n",
      "[2 3 4]\n"
     ]
    }
   ],
   "source": [
    "# Toplama\n",
    "# result = a + b\n",
    "# Çarpma\n",
    "result = a * 2\n",
    "print (result)\n",
    "# Elemana erişim\n",
    "value = a[2]\n",
    "print (value)\n",
    "# Kesme\n",
    "subarray = a[1:4]\n",
    "print (subarray)"
   ]
  },
  {
   "cell_type": "markdown",
   "metadata": {},
   "source": [
    "### **NumPy Fonksiyonları**\n",
    "\n",
    "NumPy, matematiksel ve istatistiksel işlemler için çok sayıda fonksiyon sunar.\n",
    "\n",
    "- **mean():** Dizinin ortalamasını hesaplar.\n",
    "- **std():** Dizinin standart sapmasını hesaplar.\n",
    "- **sum():** Dizinin tüm elemanlarının toplamını hesaplar.\n",
    "- **min():** Dizinin en küçük değerini bulur.\n",
    "- **max():** Dizinin en büyük değerini bulur."
   ]
  },
  {
   "cell_type": "code",
   "execution_count": 8,
   "metadata": {},
   "outputs": [
    {
     "name": "stdout",
     "output_type": "stream",
     "text": [
      "3.0\n",
      "1.4142135623730951\n"
     ]
    }
   ],
   "source": [
    "# Ortalama\n",
    "mean_value = np.mean(a)\n",
    "print (mean_value)\n",
    "# Standart sapma\n",
    "std_value = np.std(a)\n",
    "print (std_value)"
   ]
  },
  {
   "cell_type": "markdown",
   "metadata": {},
   "source": [
    "### Python vs NumPy Örnek"
   ]
  },
  {
   "cell_type": "markdown",
   "metadata": {},
   "source": [
    "İki listedeki karşılıklı elemanların çarpımlarını alarak yeni bir liste yapalım. Asimetrik vektörel (tek boyutlu) listelerle işlem yapılmaz. Gerekirse sonlarına 0 konarak eşitlenirler."
   ]
  },
  {
   "cell_type": "code",
   "execution_count": 3,
   "metadata": {},
   "outputs": [
    {
     "name": "stdout",
     "output_type": "stream",
     "text": [
      "[20, 56, 4, 12, 16, 5, 21, 12, 12, 32, 21, 3, 35, 18, 10, 45, 9, 28, 9, 64, 2, 30]\n"
     ]
    }
   ],
   "source": [
    "x = [4, 8, 2, 3, 8, 1, 3, 6, 3, 8, 7, 3, 7, 3, 5, 9, 3, 4, 3, 8, 2, 5]\n",
    "y = [5, 7, 2, 4, 2, 5, 7, 2, 4, 4, 3, 1, 5, 6, 2, 5, 3, 7, 3, 8, 1, 6]\n",
    "xy = [] #xy adında boş bir liste oluşturuluyor. Bu liste, çarpım sonuçlarını tutacak.\n",
    "for i in range(0, len(x)): # Burada direkt olarak listenin içini döngüye sokmuyor aslında, liste içindeki eleman sayısı kadar listeyi döngüye sokuyor.\n",
    "# Bu nedenle i aşağıda 0'dan başlayan bir rakam olarak kullanılıyor\n",
    "\txy.append(x[i]*y[i]) #  Bu satır, x listesinin i'inci elemanını alır, y listesinin i'inci elemanını alır, çarpar ve sonucu xy listesinin sonuna ekler.\n",
    "\t\n",
    "print (xy)"
   ]
  },
  {
   "cell_type": "markdown",
   "metadata": {},
   "source": [
    "Bunun yerine NumPy kullansaydık"
   ]
  },
  {
   "cell_type": "code",
   "execution_count": 5,
   "metadata": {},
   "outputs": [
    {
     "name": "stdout",
     "output_type": "stream",
     "text": [
      "[20 56  4 12 16  5 21 12 12 32 21  3 35 18 10 45  9 28  9 64  2 30]\n"
     ]
    }
   ],
   "source": [
    "x = np.array(x)\n",
    "y = np.array(y)\n",
    "print (x*y)"
   ]
  }
 ],
 "metadata": {
  "kernelspec": {
   "display_name": "base",
   "language": "python",
   "name": "python3"
  },
  "language_info": {
   "codemirror_mode": {
    "name": "ipython",
    "version": 3
   },
   "file_extension": ".py",
   "mimetype": "text/x-python",
   "name": "python",
   "nbconvert_exporter": "python",
   "pygments_lexer": "ipython3",
   "version": "3.12.4"
  }
 },
 "nbformat": 4,
 "nbformat_minor": 2
}
