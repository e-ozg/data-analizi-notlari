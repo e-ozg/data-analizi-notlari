{
 "cells": [
  {
   "cell_type": "markdown",
   "metadata": {},
   "source": [
    "# Gruplandırmalar\n",
    "\n",
    "agg fonksiyonu, farklı sütunlar için farklı istatistiksel hesaplamalar yapmamıza olanak tanır.\n",
    "groupby fonksiyonu, birden fazla sütuna göre gruplandırma yapmamıza da izin verir."
   ]
  },
  {
   "cell_type": "code",
   "execution_count": 2,
   "metadata": {},
   "outputs": [],
   "source": [
    "import numpy as np\n",
    "import pandas as pd"
   ]
  },
  {
   "cell_type": "code",
   "execution_count": 3,
   "metadata": {},
   "outputs": [
    {
     "data": {
      "text/html": [
       "<div>\n",
       "<style scoped>\n",
       "    .dataframe tbody tr th:only-of-type {\n",
       "        vertical-align: middle;\n",
       "    }\n",
       "\n",
       "    .dataframe tbody tr th {\n",
       "        vertical-align: top;\n",
       "    }\n",
       "\n",
       "    .dataframe thead th {\n",
       "        text-align: right;\n",
       "    }\n",
       "</style>\n",
       "<table border=\"1\" class=\"dataframe\">\n",
       "  <thead>\n",
       "    <tr style=\"text-align: right;\">\n",
       "      <th></th>\n",
       "      <th>Kategori</th>\n",
       "      <th>Marka</th>\n",
       "      <th>Fiyat</th>\n",
       "    </tr>\n",
       "  </thead>\n",
       "  <tbody>\n",
       "    <tr>\n",
       "      <th>0</th>\n",
       "      <td>Elektronik</td>\n",
       "      <td>Samsung</td>\n",
       "      <td>2000</td>\n",
       "    </tr>\n",
       "    <tr>\n",
       "      <th>1</th>\n",
       "      <td>Giyim</td>\n",
       "      <td>Nike</td>\n",
       "      <td>300</td>\n",
       "    </tr>\n",
       "    <tr>\n",
       "      <th>2</th>\n",
       "      <td>Giyim</td>\n",
       "      <td>Adidas</td>\n",
       "      <td>250</td>\n",
       "    </tr>\n",
       "    <tr>\n",
       "      <th>3</th>\n",
       "      <td>Elektronik</td>\n",
       "      <td>Apple</td>\n",
       "      <td>5000</td>\n",
       "    </tr>\n",
       "    <tr>\n",
       "      <th>4</th>\n",
       "      <td>Elektronik</td>\n",
       "      <td>Sony</td>\n",
       "      <td>1500</td>\n",
       "    </tr>\n",
       "    <tr>\n",
       "      <th>5</th>\n",
       "      <td>Giyim</td>\n",
       "      <td>Levis</td>\n",
       "      <td>150</td>\n",
       "    </tr>\n",
       "  </tbody>\n",
       "</table>\n",
       "</div>"
      ],
      "text/plain": [
       "     Kategori    Marka  Fiyat\n",
       "0  Elektronik  Samsung   2000\n",
       "1       Giyim     Nike    300\n",
       "2       Giyim   Adidas    250\n",
       "3  Elektronik    Apple   5000\n",
       "4  Elektronik     Sony   1500\n",
       "5       Giyim    Levis    150"
      ]
     },
     "execution_count": 3,
     "metadata": {},
     "output_type": "execute_result"
    }
   ],
   "source": [
    "# data adında bir sözlük. her bir anahtar (key), bir sütun adını (Kategori, Marka, Fiyat) ve bu sütuna ait değerler bir liste şeklinde tutuyor.\n",
    "data = {\n",
    "    \"Kategori\": [\"Elektronik\", \"Giyim\", \"Giyim\", \"Elektronik\", \"Elektronik\", \"Giyim\"],\n",
    "    \"Marka\": [\"Samsung\", \"Nike\", \"Adidas\", \"Apple\", \"Sony\", \"Levis\"],\n",
    "    \"Fiyat\": [2000, 300, 250, 5000, 1500, 150]\n",
    "}\n",
    "\n",
    "df3 = pd.DataFrame(data) # Veri çerçevesi (dataframe) olarak bu sözlüğün atanması\n",
    "df3"
   ]
  },
  {
   "cell_type": "markdown",
   "metadata": {},
   "source": [
    "Aşağıdaki kod veri çerçevesini \"Kategori\" sütununa göre gruplara ayırır. (\"Elektronik\" ve \"Giyim\") kategorilerine ait tüm satırlar ayrı ayrı gruplara alınır."
   ]
  },
  {
   "cell_type": "code",
   "execution_count": 4,
   "metadata": {},
   "outputs": [
    {
     "name": "stdout",
     "output_type": "stream",
     "text": [
      "                  Fiyat            \n",
      "                   mean   min   max\n",
      "Kategori                           \n",
      "Elektronik  2833.333333  1500  5000\n",
      "Giyim        233.333333   150   300\n"
     ]
    }
   ],
   "source": [
    "grouped = df3.groupby('Kategori').agg({'Fiyat': ['mean', 'min', 'max']})\n",
    "# .agg({'Fiyat': ['mean', 'min', 'max']}): Bu kısım, her bir grup içindeki \"Fiyat\" sütunu için belirtilen istatistiksel hesaplamaları yapar:\n",
    "print(grouped)"
   ]
  },
  {
   "cell_type": "markdown",
   "metadata": {},
   "source": [
    "##### Çoklu Gruplandırma\n",
    "\n",
    "Hem \"Kategori\" hem de \"Marka\" sütunlarına göre gruplandırıp, her bir grup (yani her bir kategori-marka kombinasyonu) için \"Fiyat\" sütunundaki değerlerin ortalamasını, minimumunu ve maksimumunu hesaplar. Yani, her bir benzersiz kategori-marka çifti için ayrı bir grup oluşturulur. Örneğin, \"Elektronik-Samsung\", \"Giyim-Nike\" gibi gruplar oluşur."
   ]
  },
  {
   "cell_type": "code",
   "execution_count": 5,
   "metadata": {},
   "outputs": [
    {
     "name": "stdout",
     "output_type": "stream",
     "text": [
      "                     Fiyat            \n",
      "                      mean   min   max\n",
      "Kategori   Marka                      \n",
      "Elektronik Apple    5000.0  5000  5000\n",
      "           Samsung  2000.0  2000  2000\n",
      "           Sony     1500.0  1500  1500\n",
      "Giyim      Adidas    250.0   250   250\n",
      "           Levis     150.0   150   150\n",
      "           Nike      300.0   300   300\n"
     ]
    }
   ],
   "source": [
    "grouped = df3.groupby(['Kategori','Marka']).agg({'Fiyat': ['mean', 'min', 'max']})\n",
    "print(grouped)"
   ]
  },
  {
   "cell_type": "code",
   "execution_count": 6,
   "metadata": {},
   "outputs": [
    {
     "ename": "NameError",
     "evalue": "name 'sensor_grubu' is not defined",
     "output_type": "error",
     "traceback": [
      "\u001b[1;31m---------------------------------------------------------------------------\u001b[0m",
      "\u001b[1;31mNameError\u001b[0m                                 Traceback (most recent call last)",
      "Cell \u001b[1;32mIn[6], line 1\u001b[0m\n\u001b[1;32m----> 1\u001b[0m sensor_grubu[\u001b[38;5;124m\"\u001b[39m\u001b[38;5;124maxis\u001b[39m\u001b[38;5;124m\"\u001b[39m]\u001b[38;5;241m.\u001b[39msum()\n",
      "\u001b[1;31mNameError\u001b[0m: name 'sensor_grubu' is not defined"
     ]
    }
   ],
   "source": [
    "sensor_grubu[\"axis\"].sum()"
   ]
  }
 ],
 "metadata": {
  "kernelspec": {
   "display_name": "base",
   "language": "python",
   "name": "python3"
  },
  "language_info": {
   "codemirror_mode": {
    "name": "ipython",
    "version": 3
   },
   "file_extension": ".py",
   "mimetype": "text/x-python",
   "name": "python",
   "nbconvert_exporter": "python",
   "pygments_lexer": "ipython3",
   "version": "3.12.4"
  }
 },
 "nbformat": 4,
 "nbformat_minor": 2
}
