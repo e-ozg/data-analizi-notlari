{
 "cells": [
  {
   "cell_type": "markdown",
   "metadata": {},
   "source": [
    " # DataFrame\n",
    " \n",
    " DataFrame'ler, verileri tablo şeklinde düzenlememizi sağlar. Satırlar genellikle gözlemleri (örneğin, öğrenciler), sütunlar ise değişkenleri (örneğin, notlar, isimler) temsil eder.\n",
    "\n",
    "\n",
    "\n",
    "Sütun İşlemleri: Yeni sütunlar ekleyebilir, mevcut sütunları silebilir veya güncelleyebilirsiniz.\n",
    "İstatistiksel Hesaplamalar: Ortalama, standart sapma gibi istatistiksel hesaplamalar yapabilirsiniz.\n",
    "Sıralama: Verileri belirli bir sütuna göre sıralayabilirsiniz.\n",
    "Filtreleme: Belirli koşulları sağlayan satırları seçebilirsiniz."
   ]
  },
  {
   "cell_type": "markdown",
   "metadata": {},
   "source": [
    "### DataFrame Oluşturma"
   ]
  },
  {
   "cell_type": "code",
   "execution_count": 2,
   "metadata": {},
   "outputs": [],
   "source": [
    "import pandas as pd\n",
    "import numpy as np"
   ]
  },
  {
   "cell_type": "code",
   "execution_count": 3,
   "metadata": {},
   "outputs": [
    {
     "name": "stdout",
     "output_type": "stream",
     "text": [
      "isim: ['Arda', 'Beyza', 'Cansu', 'Deniz', 'Eda']\n",
      "yazili: [78, 36, 75, 45, 73]\n",
      "sozlu: [56, 75, 34, 87, 56]\n"
     ]
    }
   ],
   "source": [
    "ogr = {\n",
    "    'isim': ['Arda', 'Beyza', 'Cansu', 'Deniz', 'Eda'],\n",
    "    'yazili': [78,36,75,45,73],\n",
    "    'sozlu': [56,75,34,87,56]\n",
    "}\n",
    "\n",
    "for (key, value) in ogr.items():\n",
    "  print(f'{key}: {value}')"
   ]
  },
  {
   "cell_type": "code",
   "execution_count": 4,
   "metadata": {},
   "outputs": [
    {
     "data": {
      "text/plain": [
       "dict"
      ]
     },
     "execution_count": 4,
     "metadata": {},
     "output_type": "execute_result"
    }
   ],
   "source": [
    "type(ogr)"
   ]
  },
  {
   "cell_type": "code",
   "execution_count": 5,
   "metadata": {},
   "outputs": [
    {
     "name": "stdout",
     "output_type": "stream",
     "text": [
      "    isim  yazili  sozlu\n",
      "0   Arda      78     56\n",
      "1  Beyza      36     75\n",
      "2  Cansu      75     34\n",
      "3  Deniz      45     87\n",
      "4    Eda      73     56\n"
     ]
    }
   ],
   "source": [
    "ogrenci_df = pd.DataFrame(ogr)\n",
    "print(ogrenci_df)"
   ]
  },
  {
   "cell_type": "code",
   "execution_count": null,
   "metadata": {},
   "outputs": [
    {
     "name": "stdout",
     "output_type": "stream",
     "text": [
      "<class 'pandas.core.frame.DataFrame'>\n"
     ]
    }
   ],
   "source": [
    "print(type(ogrenci_df))"
   ]
  },
  {
   "cell_type": "markdown",
   "metadata": {},
   "source": [
    "### Yeni Sütun Ekleme"
   ]
  },
  {
   "cell_type": "code",
   "execution_count": null,
   "metadata": {},
   "outputs": [
    {
     "name": "stdout",
     "output_type": "stream",
     "text": [
      "    isim  yazili  sozlu ortalama\n",
      "0   Arda      78     56      NaN\n",
      "1  Beyza      36     75      NaN\n",
      "2  Cansu      75     34      NaN\n",
      "3  Deniz      45     87      NaN\n",
      "4    Eda      73     56      NaN\n"
     ]
    }
   ],
   "source": [
    "ogrenci_df = pd.DataFrame(ogr, columns=['isim', 'yazili','sozlu', 'ortalama'])\n",
    "print(ogrenci_df)"
   ]
  },
  {
   "cell_type": "code",
   "execution_count": null,
   "metadata": {},
   "outputs": [
    {
     "name": "stdout",
     "output_type": "stream",
     "text": [
      "    isim  yazili  sozlu  ortalama\n",
      "0   Arda      78     56      69.2\n",
      "1  Beyza      36     75      51.6\n",
      "2  Cansu      75     34      58.6\n",
      "3  Deniz      45     87      61.8\n",
      "4    Eda      73     56      66.2\n"
     ]
    }
   ],
   "source": [
    "ogrenci_df['ortalama'] = ogrenci_df['yazili'] * 0.6 + ogrenci_df['sozlu'] * 0.4\n",
    "print(ogrenci_df)"
   ]
  },
  {
   "cell_type": "code",
   "execution_count": null,
   "metadata": {},
   "outputs": [
    {
     "name": "stdout",
     "output_type": "stream",
     "text": [
      "66.2\n"
     ]
    }
   ],
   "source": [
    "print(ogrenci_df['ortalama'][4])"
   ]
  },
  {
   "cell_type": "markdown",
   "metadata": {},
   "source": [
    "##### Bir başka yeni sütun ekleme"
   ]
  },
  {
   "cell_type": "code",
   "execution_count": null,
   "metadata": {},
   "outputs": [
    {
     "name": "stdout",
     "output_type": "stream",
     "text": [
      "    isim  yazili  sozlu  ortalama  numara\n",
      "0   Arda      78     56      69.2       0\n",
      "1  Beyza      36     75      51.6       0\n",
      "2  Cansu      75     34      58.6       0\n",
      "3  Deniz      45     87      61.8       0\n",
      "4    Eda      73     56      66.2       0\n"
     ]
    }
   ],
   "source": [
    "ogrenci_df['numara'] = 0\n",
    "\n",
    "print (ogrenci_df)"
   ]
  },
  {
   "cell_type": "markdown",
   "metadata": {},
   "source": [
    "### Sütun Silme"
   ]
  },
  {
   "cell_type": "code",
   "execution_count": null,
   "metadata": {},
   "outputs": [
    {
     "name": "stdout",
     "output_type": "stream",
     "text": [
      "    isim  yazili  sozlu  ortalama\n",
      "0   Arda      78     56      69.2\n",
      "1  Beyza      36     75      51.6\n",
      "2  Cansu      75     34      58.6\n",
      "3  Deniz      45     87      61.8\n",
      "4    Eda      73     56      66.2\n"
     ]
    }
   ],
   "source": [
    "ogrenci_df = ogrenci_df.drop('numara', axis=1)\n",
    "print (ogrenci_df)"
   ]
  },
  {
   "cell_type": "markdown",
   "metadata": {},
   "source": [
    "### Verilere Erişme\n",
    "\n",
    " .loc: Etiketlere göre seçim yapar.\n",
    ".iloc: Numaralı indekslere göre seçim yapar."
   ]
  },
  {
   "cell_type": "code",
   "execution_count": 13,
   "metadata": {},
   "outputs": [
    {
     "name": "stdout",
     "output_type": "stream",
     "text": [
      "49    a\n",
      "48    b\n",
      "47    c\n",
      "0     d\n",
      "1     e\n",
      "2     f\n",
      "dtype: object\n",
      "d\n",
      "a\n"
     ]
    }
   ],
   "source": [
    "s = pd.Series(list(\"abcdef\"), index=[49, 48, 47, 0, 1, 2]) \n",
    "print (s)\n",
    "\n",
    "print (s.loc[0])    # value at index label 0\n",
    "print (s.iloc[0])   # value at index location 0"
   ]
  },
  {
   "cell_type": "code",
   "execution_count": 9,
   "metadata": {},
   "outputs": [
    {
     "name": "stdout",
     "output_type": "stream",
     "text": [
      "isim      Eda\n",
      "yazili     73\n",
      "sozlu      56\n",
      "Name: 4, dtype: object\n"
     ]
    }
   ],
   "source": [
    "print(ogrenci_df.loc[4])"
   ]
  },
  {
   "cell_type": "code",
   "execution_count": 7,
   "metadata": {},
   "outputs": [
    {
     "name": "stdout",
     "output_type": "stream",
     "text": [
      "isim      Eda\n",
      "yazili     73\n",
      "sozlu      56\n",
      "Name: 4, dtype: object\n"
     ]
    }
   ],
   "source": [
    "print (ogrenci_df.iloc[4])"
   ]
  },
  {
   "cell_type": "code",
   "execution_count": null,
   "metadata": {},
   "outputs": [
    {
     "name": "stdout",
     "output_type": "stream",
     "text": [
      "66.2\n",
      "    isim  yazili  sozlu  ortalama\n",
      "0   Arda      78     56      69.2\n",
      "1  Beyza      36     75      51.6\n",
      "2  Cansu      75     34      58.6\n",
      "3  Deniz      45     87      61.8\n",
      "4    Eda      73     56      66.2\n"
     ]
    }
   ],
   "source": [
    "ogrenci_df['ortalama'] = ogrenci_df['yazili'] * 0.6 + ogrenci_df['sozlu'] * 0.4\n",
    "print(ogrenci_df['ortalama'][4])\n",
    "print(ogrenci_df)"
   ]
  },
  {
   "cell_type": "code",
   "execution_count": 14,
   "metadata": {},
   "outputs": [
    {
     "name": "stdout",
     "output_type": "stream",
     "text": [
      "    isim  yazili  sozlu\n",
      "0   Arda      78     56\n",
      "1  Beyza      36     75\n",
      "2  Cansu      75     34\n",
      "3  Deniz      45     87\n",
      "4    Eda      73     56\n"
     ]
    }
   ],
   "source": [
    "print (ogrenci_df)"
   ]
  },
  {
   "cell_type": "code",
   "execution_count": 20,
   "metadata": {},
   "outputs": [
    {
     "name": "stdout",
     "output_type": "stream",
     "text": [
      "66.2\n",
      "\n",
      "0    69.2\n",
      "1    51.6\n",
      "2    58.6\n",
      "3    61.8\n",
      "4    66.2\n",
      "Name: ortalama, dtype: float64\n",
      "\n",
      "   ortalama   isim\n",
      "0      69.2   Arda\n",
      "1      51.6  Beyza\n",
      "2      58.6  Cansu\n",
      "3      61.8  Deniz\n",
      "4      66.2    Eda\n",
      "\n",
      "    isim  yazili  sozlu  ortalama\n",
      "0   Arda      78     56      69.2\n",
      "1  Beyza      36     75      51.6\n",
      "2  Cansu      75     34      58.6\n",
      "3  Deniz      45     87      61.8\n",
      "4    Eda      73     56      66.2\n"
     ]
    }
   ],
   "source": [
    "ogrenci_df['ortalama'] = ogrenci_df['yazili'] * 0.6 + ogrenci_df['sozlu'] * 0.4\n",
    "print(ogrenci_df['ortalama'][4])\n",
    "print ()\n",
    "print (ogrenci_df[\"ortalama\"])\n",
    "print ()\n",
    "print (ogrenci_df[[\"ortalama\", \"isim\"]])"
   ]
  },
  {
   "cell_type": "code",
   "execution_count": 22,
   "metadata": {},
   "outputs": [
    {
     "name": "stdout",
     "output_type": "stream",
     "text": [
      "   isim  yazili  sozlu  ortalama\n",
      "0  Arda      78     56      69.2\n",
      "4   Eda      73     56      66.2\n"
     ]
    }
   ],
   "source": [
    "basarili_ogrenciler = ogrenci_df[ogrenci_df['ortalama']>66]\n",
    "print(basarili_ogrenciler)"
   ]
  },
  {
   "cell_type": "code",
   "execution_count": 23,
   "metadata": {},
   "outputs": [
    {
     "data": {
      "text/html": [
       "<div>\n",
       "<style scoped>\n",
       "    .dataframe tbody tr th:only-of-type {\n",
       "        vertical-align: middle;\n",
       "    }\n",
       "\n",
       "    .dataframe tbody tr th {\n",
       "        vertical-align: top;\n",
       "    }\n",
       "\n",
       "    .dataframe thead th {\n",
       "        text-align: right;\n",
       "    }\n",
       "</style>\n",
       "<table border=\"1\" class=\"dataframe\">\n",
       "  <thead>\n",
       "    <tr style=\"text-align: right;\">\n",
       "      <th></th>\n",
       "      <th>isim</th>\n",
       "      <th>yazili</th>\n",
       "      <th>sozlu</th>\n",
       "      <th>ortalama</th>\n",
       "    </tr>\n",
       "  </thead>\n",
       "  <tbody>\n",
       "    <tr>\n",
       "      <th>0</th>\n",
       "      <td>Arda</td>\n",
       "      <td>78</td>\n",
       "      <td>56</td>\n",
       "      <td>69.2</td>\n",
       "    </tr>\n",
       "    <tr>\n",
       "      <th>1</th>\n",
       "      <td>Beyza</td>\n",
       "      <td>36</td>\n",
       "      <td>75</td>\n",
       "      <td>51.6</td>\n",
       "    </tr>\n",
       "    <tr>\n",
       "      <th>2</th>\n",
       "      <td>Cansu</td>\n",
       "      <td>75</td>\n",
       "      <td>34</td>\n",
       "      <td>58.6</td>\n",
       "    </tr>\n",
       "    <tr>\n",
       "      <th>3</th>\n",
       "      <td>Deniz</td>\n",
       "      <td>45</td>\n",
       "      <td>87</td>\n",
       "      <td>61.8</td>\n",
       "    </tr>\n",
       "    <tr>\n",
       "      <th>4</th>\n",
       "      <td>Eda</td>\n",
       "      <td>73</td>\n",
       "      <td>56</td>\n",
       "      <td>66.2</td>\n",
       "    </tr>\n",
       "  </tbody>\n",
       "</table>\n",
       "</div>"
      ],
      "text/plain": [
       "    isim  yazili  sozlu  ortalama\n",
       "0   Arda      78     56      69.2\n",
       "1  Beyza      36     75      51.6\n",
       "2  Cansu      75     34      58.6\n",
       "3  Deniz      45     87      61.8\n",
       "4    Eda      73     56      66.2"
      ]
     },
     "execution_count": 23,
     "metadata": {},
     "output_type": "execute_result"
    }
   ],
   "source": [
    "ogrenci_df"
   ]
  }
 ],
 "metadata": {
  "kernelspec": {
   "display_name": "base",
   "language": "python",
   "name": "python3"
  },
  "language_info": {
   "codemirror_mode": {
    "name": "ipython",
    "version": 3
   },
   "file_extension": ".py",
   "mimetype": "text/x-python",
   "name": "python",
   "nbconvert_exporter": "python",
   "pygments_lexer": "ipython3",
   "version": "3.12.4"
  }
 },
 "nbformat": 4,
 "nbformat_minor": 2
}
