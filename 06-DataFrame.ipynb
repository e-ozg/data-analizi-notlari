{
 "cells": [
  {
   "cell_type": "markdown",
   "metadata": {},
   "source": [
    " # DataFrame\n",
    " \n",
    " DataFrame'ler, verileri tablo şeklinde düzenlememizi sağlar. Satırlar genellikle gözlemleri (örneğin, öğrenciler), sütunlar ise değişkenleri (örneğin, notlar, isimler) temsil eder.\n",
    "\n",
    "\n",
    "\n",
    "Sütun İşlemleri: Yeni sütunlar ekleyebilir, mevcut sütunları silebilir veya güncelleyebilirsiniz.\n",
    "İstatistiksel Hesaplamalar: Ortalama, standart sapma gibi istatistiksel hesaplamalar yapabilirsiniz.\n",
    "Sıralama: Verileri belirli bir sütuna göre sıralayabilirsiniz.\n",
    "Filtreleme: Belirli koşulları sağlayan satırları seçebilirsiniz."
   ]
  },
  {
   "cell_type": "markdown",
   "metadata": {},
   "source": [
    "### DataFrame Oluşturma"
   ]
  },
  {
   "cell_type": "code",
   "execution_count": 37,
   "metadata": {},
   "outputs": [],
   "source": [
    "import pandas as pd\n",
    "import numpy as np"
   ]
  },
  {
   "cell_type": "code",
   "execution_count": 38,
   "metadata": {},
   "outputs": [
    {
     "name": "stdout",
     "output_type": "stream",
     "text": [
      "isim: ['Arda', 'Beyza', 'Cansu', 'Deniz', 'Eda']\n",
      "yazili: [78, 36, 75, 45, 73]\n",
      "sozlu: [56, 75, 34, 87, 56]\n"
     ]
    }
   ],
   "source": [
    "ogr = {\n",
    "    'isim': ['Arda', 'Beyza', 'Cansu', 'Deniz', 'Eda'],\n",
    "    'yazili': [78,36,75,45,73],\n",
    "    'sozlu': [56,75,34,87,56]\n",
    "}\n",
    "\n",
    "for (key, value) in ogr.items():\n",
    "  print(f'{key}: {value}')"
   ]
  },
  {
   "cell_type": "code",
   "execution_count": 39,
   "metadata": {},
   "outputs": [
    {
     "data": {
      "text/plain": [
       "dict"
      ]
     },
     "execution_count": 39,
     "metadata": {},
     "output_type": "execute_result"
    }
   ],
   "source": [
    "type(ogr)"
   ]
  },
  {
   "cell_type": "code",
   "execution_count": 40,
   "metadata": {},
   "outputs": [
    {
     "name": "stdout",
     "output_type": "stream",
     "text": [
      "    isim  yazili  sozlu\n",
      "0   Arda      78     56\n",
      "1  Beyza      36     75\n",
      "2  Cansu      75     34\n",
      "3  Deniz      45     87\n",
      "4    Eda      73     56\n"
     ]
    }
   ],
   "source": [
    "ogrenci_df = pd.DataFrame(ogr)\n",
    "print(ogrenci_df)"
   ]
  },
  {
   "cell_type": "code",
   "execution_count": 41,
   "metadata": {},
   "outputs": [
    {
     "name": "stdout",
     "output_type": "stream",
     "text": [
      "<class 'pandas.core.frame.DataFrame'>\n"
     ]
    }
   ],
   "source": [
    "print(type(ogrenci_df))"
   ]
  },
  {
   "cell_type": "markdown",
   "metadata": {},
   "source": [
    "#### Rastgele Sayılarla DataFrame Oluşturma"
   ]
  },
  {
   "cell_type": "code",
   "execution_count": 42,
   "metadata": {},
   "outputs": [
    {
     "name": "stdout",
     "output_type": "stream",
     "text": [
      "          A         B         C         D\n",
      "0  0.106429  0.792372  0.895782  0.978998\n",
      "1  0.799625  0.001388  0.267975  0.905963\n",
      "2  0.529317  0.064241  0.910996  0.199902\n",
      "3  0.459486  0.209693  0.270248  0.646463\n",
      "4  0.928700  0.464962  0.780383  0.540616\n",
      "5  0.648785  0.756749  0.246593  0.370682\n",
      "6  0.219467  0.610199  0.568940  0.323929\n",
      "7  0.667674  0.592047  0.654910  0.450046\n",
      "8  0.224115  0.071831  0.870334  0.709686\n",
      "9  0.776220  0.636530  0.496374  0.910583\n"
     ]
    }
   ],
   "source": [
    "data = np.random.rand(10, 4) # NumPy ile 10 satır, 4 sütundan oluşan, 0-1 arası rastgele sayılar içeren bir NumPy array'i oluşturur.\n",
    "columns_listesi = ['A', 'B', 'C', 'D'] # Sütun isimlerini tutan bir liste oluşturur.\n",
    "df = pd.DataFrame(data, columns = columns_listesi) # array'i ve sütun isimlerini kullanarak bir Pandas DataFrame'i oluşturur.\n",
    "print(df)"
   ]
  },
  {
   "cell_type": "markdown",
   "metadata": {},
   "source": [
    "### Yeni Sütun Ekleme"
   ]
  },
  {
   "cell_type": "code",
   "execution_count": 43,
   "metadata": {},
   "outputs": [
    {
     "name": "stdout",
     "output_type": "stream",
     "text": [
      "    isim  yazili  sozlu ortalama\n",
      "0   Arda      78     56      NaN\n",
      "1  Beyza      36     75      NaN\n",
      "2  Cansu      75     34      NaN\n",
      "3  Deniz      45     87      NaN\n",
      "4    Eda      73     56      NaN\n"
     ]
    }
   ],
   "source": [
    "ogrenci_df = pd.DataFrame(ogr, columns=['isim', 'yazili','sozlu', 'ortalama'])\n",
    "print(ogrenci_df)"
   ]
  },
  {
   "cell_type": "code",
   "execution_count": 44,
   "metadata": {},
   "outputs": [
    {
     "name": "stdout",
     "output_type": "stream",
     "text": [
      "    isim  yazili  sozlu  ortalama\n",
      "0   Arda      78     56      69.2\n",
      "1  Beyza      36     75      51.6\n",
      "2  Cansu      75     34      58.6\n",
      "3  Deniz      45     87      61.8\n",
      "4    Eda      73     56      66.2\n"
     ]
    }
   ],
   "source": [
    "ogrenci_df['ortalama'] = ogrenci_df['yazili'] * 0.6 + ogrenci_df['sozlu'] * 0.4\n",
    "print(ogrenci_df)"
   ]
  },
  {
   "cell_type": "code",
   "execution_count": 45,
   "metadata": {},
   "outputs": [
    {
     "name": "stdout",
     "output_type": "stream",
     "text": [
      "66.2\n"
     ]
    }
   ],
   "source": [
    "print(ogrenci_df['ortalama'][4])"
   ]
  },
  {
   "cell_type": "markdown",
   "metadata": {},
   "source": [
    "##### Bir başka yeni sütun ekleme"
   ]
  },
  {
   "cell_type": "code",
   "execution_count": 46,
   "metadata": {},
   "outputs": [
    {
     "name": "stdout",
     "output_type": "stream",
     "text": [
      "    isim  yazili  sozlu  ortalama  numara\n",
      "0   Arda      78     56      69.2       0\n",
      "1  Beyza      36     75      51.6       0\n",
      "2  Cansu      75     34      58.6       0\n",
      "3  Deniz      45     87      61.8       0\n",
      "4    Eda      73     56      66.2       0\n"
     ]
    }
   ],
   "source": [
    "ogrenci_df['numara'] = 0\n",
    "\n",
    "print (ogrenci_df)"
   ]
  },
  {
   "cell_type": "markdown",
   "metadata": {},
   "source": [
    "### Sütun Silme"
   ]
  },
  {
   "cell_type": "code",
   "execution_count": 47,
   "metadata": {},
   "outputs": [
    {
     "name": "stdout",
     "output_type": "stream",
     "text": [
      "    isim  yazili  sozlu  ortalama\n",
      "0   Arda      78     56      69.2\n",
      "1  Beyza      36     75      51.6\n",
      "2  Cansu      75     34      58.6\n",
      "3  Deniz      45     87      61.8\n",
      "4    Eda      73     56      66.2\n"
     ]
    }
   ],
   "source": [
    "ogrenci_df = ogrenci_df.drop('numara', axis=1)\n",
    "print (ogrenci_df)"
   ]
  },
  {
   "cell_type": "markdown",
   "metadata": {},
   "source": [
    "### Verilere Erişme\n",
    "\n",
    " .loc: Etiketlere göre seçim yapar.\n",
    ".iloc: Numaralı indekslere göre seçim yapar."
   ]
  },
  {
   "cell_type": "code",
   "execution_count": 48,
   "metadata": {},
   "outputs": [
    {
     "name": "stdout",
     "output_type": "stream",
     "text": [
      "49    a\n",
      "48    b\n",
      "47    c\n",
      "0     d\n",
      "1     e\n",
      "2     f\n",
      "dtype: object\n",
      "d\n",
      "a\n"
     ]
    }
   ],
   "source": [
    "s = pd.Series(list(\"abcdef\"), index=[49, 48, 47, 0, 1, 2]) \n",
    "print (s)\n",
    "\n",
    "print (s.loc[0])    # value at index label 0\n",
    "print (s.iloc[0])   # value at index location 0"
   ]
  },
  {
   "cell_type": "code",
   "execution_count": 49,
   "metadata": {},
   "outputs": [
    {
     "name": "stdout",
     "output_type": "stream",
     "text": [
      "isim         Eda\n",
      "yazili        73\n",
      "sozlu         56\n",
      "ortalama    66.2\n",
      "Name: 4, dtype: object\n"
     ]
    }
   ],
   "source": [
    "print(ogrenci_df.loc[4])"
   ]
  },
  {
   "cell_type": "code",
   "execution_count": 50,
   "metadata": {},
   "outputs": [
    {
     "name": "stdout",
     "output_type": "stream",
     "text": [
      "isim         Eda\n",
      "yazili        73\n",
      "sozlu         56\n",
      "ortalama    66.2\n",
      "Name: 4, dtype: object\n"
     ]
    }
   ],
   "source": [
    "print (ogrenci_df.iloc[4])"
   ]
  },
  {
   "cell_type": "code",
   "execution_count": 51,
   "metadata": {},
   "outputs": [
    {
     "name": "stdout",
     "output_type": "stream",
     "text": [
      "66.2\n",
      "    isim  yazili  sozlu  ortalama\n",
      "0   Arda      78     56      69.2\n",
      "1  Beyza      36     75      51.6\n",
      "2  Cansu      75     34      58.6\n",
      "3  Deniz      45     87      61.8\n",
      "4    Eda      73     56      66.2\n"
     ]
    }
   ],
   "source": [
    "ogrenci_df['ortalama'] = ogrenci_df['yazili'] * 0.6 + ogrenci_df['sozlu'] * 0.4\n",
    "print(ogrenci_df['ortalama'][4])\n",
    "print(ogrenci_df)"
   ]
  },
  {
   "cell_type": "code",
   "execution_count": 52,
   "metadata": {},
   "outputs": [
    {
     "name": "stdout",
     "output_type": "stream",
     "text": [
      "    isim  yazili  sozlu  ortalama\n",
      "0   Arda      78     56      69.2\n",
      "1  Beyza      36     75      51.6\n",
      "2  Cansu      75     34      58.6\n",
      "3  Deniz      45     87      61.8\n",
      "4    Eda      73     56      66.2\n"
     ]
    }
   ],
   "source": [
    "print (ogrenci_df)"
   ]
  },
  {
   "cell_type": "code",
   "execution_count": 53,
   "metadata": {},
   "outputs": [
    {
     "name": "stdout",
     "output_type": "stream",
     "text": [
      "66.2\n",
      "\n",
      "0    69.2\n",
      "1    51.6\n",
      "2    58.6\n",
      "3    61.8\n",
      "4    66.2\n",
      "Name: ortalama, dtype: float64\n",
      "\n",
      "   ortalama   isim\n",
      "0      69.2   Arda\n",
      "1      51.6  Beyza\n",
      "2      58.6  Cansu\n",
      "3      61.8  Deniz\n",
      "4      66.2    Eda\n"
     ]
    }
   ],
   "source": [
    "ogrenci_df['ortalama'] = ogrenci_df['yazili'] * 0.6 + ogrenci_df['sozlu'] * 0.4\n",
    "print(ogrenci_df['ortalama'][4])\n",
    "print ()\n",
    "print (ogrenci_df[\"ortalama\"])\n",
    "print ()\n",
    "print (ogrenci_df[[\"ortalama\", \"isim\"]])"
   ]
  },
  {
   "cell_type": "code",
   "execution_count": 54,
   "metadata": {},
   "outputs": [
    {
     "name": "stdout",
     "output_type": "stream",
     "text": [
      "   isim  yazili  sozlu  ortalama\n",
      "0  Arda      78     56      69.2\n",
      "4   Eda      73     56      66.2\n"
     ]
    }
   ],
   "source": [
    "basarili_ogrenciler = ogrenci_df[ogrenci_df['ortalama']>66]\n",
    "print(basarili_ogrenciler)"
   ]
  },
  {
   "cell_type": "code",
   "execution_count": 55,
   "metadata": {},
   "outputs": [
    {
     "data": {
      "text/html": [
       "<div>\n",
       "<style scoped>\n",
       "    .dataframe tbody tr th:only-of-type {\n",
       "        vertical-align: middle;\n",
       "    }\n",
       "\n",
       "    .dataframe tbody tr th {\n",
       "        vertical-align: top;\n",
       "    }\n",
       "\n",
       "    .dataframe thead th {\n",
       "        text-align: right;\n",
       "    }\n",
       "</style>\n",
       "<table border=\"1\" class=\"dataframe\">\n",
       "  <thead>\n",
       "    <tr style=\"text-align: right;\">\n",
       "      <th></th>\n",
       "      <th>isim</th>\n",
       "      <th>yazili</th>\n",
       "      <th>sozlu</th>\n",
       "      <th>ortalama</th>\n",
       "    </tr>\n",
       "  </thead>\n",
       "  <tbody>\n",
       "    <tr>\n",
       "      <th>0</th>\n",
       "      <td>Arda</td>\n",
       "      <td>78</td>\n",
       "      <td>56</td>\n",
       "      <td>69.2</td>\n",
       "    </tr>\n",
       "    <tr>\n",
       "      <th>1</th>\n",
       "      <td>Beyza</td>\n",
       "      <td>36</td>\n",
       "      <td>75</td>\n",
       "      <td>51.6</td>\n",
       "    </tr>\n",
       "    <tr>\n",
       "      <th>2</th>\n",
       "      <td>Cansu</td>\n",
       "      <td>75</td>\n",
       "      <td>34</td>\n",
       "      <td>58.6</td>\n",
       "    </tr>\n",
       "    <tr>\n",
       "      <th>3</th>\n",
       "      <td>Deniz</td>\n",
       "      <td>45</td>\n",
       "      <td>87</td>\n",
       "      <td>61.8</td>\n",
       "    </tr>\n",
       "    <tr>\n",
       "      <th>4</th>\n",
       "      <td>Eda</td>\n",
       "      <td>73</td>\n",
       "      <td>56</td>\n",
       "      <td>66.2</td>\n",
       "    </tr>\n",
       "  </tbody>\n",
       "</table>\n",
       "</div>"
      ],
      "text/plain": [
       "    isim  yazili  sozlu  ortalama\n",
       "0   Arda      78     56      69.2\n",
       "1  Beyza      36     75      51.6\n",
       "2  Cansu      75     34      58.6\n",
       "3  Deniz      45     87      61.8\n",
       "4    Eda      73     56      66.2"
      ]
     },
     "execution_count": 55,
     "metadata": {},
     "output_type": "execute_result"
    }
   ],
   "source": [
    "ogrenci_df"
   ]
  },
  {
   "cell_type": "markdown",
   "metadata": {},
   "source": [
    "### DataFrame Methodlar"
   ]
  },
  {
   "cell_type": "code",
   "execution_count": 56,
   "metadata": {},
   "outputs": [
    {
     "data": {
      "text/html": [
       "<div>\n",
       "<style scoped>\n",
       "    .dataframe tbody tr th:only-of-type {\n",
       "        vertical-align: middle;\n",
       "    }\n",
       "\n",
       "    .dataframe tbody tr th {\n",
       "        vertical-align: top;\n",
       "    }\n",
       "\n",
       "    .dataframe thead th {\n",
       "        text-align: right;\n",
       "    }\n",
       "</style>\n",
       "<table border=\"1\" class=\"dataframe\">\n",
       "  <thead>\n",
       "    <tr style=\"text-align: right;\">\n",
       "      <th></th>\n",
       "      <th>c1</th>\n",
       "      <th>c2</th>\n",
       "      <th>c3</th>\n",
       "    </tr>\n",
       "  </thead>\n",
       "  <tbody>\n",
       "    <tr>\n",
       "      <th>a</th>\n",
       "      <td>0</td>\n",
       "      <td>1</td>\n",
       "      <td>2</td>\n",
       "    </tr>\n",
       "    <tr>\n",
       "      <th>b</th>\n",
       "      <td>3</td>\n",
       "      <td>4</td>\n",
       "      <td>5</td>\n",
       "    </tr>\n",
       "    <tr>\n",
       "      <th>c</th>\n",
       "      <td>6</td>\n",
       "      <td>7</td>\n",
       "      <td>8</td>\n",
       "    </tr>\n",
       "    <tr>\n",
       "      <th>d</th>\n",
       "      <td>9</td>\n",
       "      <td>10</td>\n",
       "      <td>11</td>\n",
       "    </tr>\n",
       "    <tr>\n",
       "      <th>e</th>\n",
       "      <td>12</td>\n",
       "      <td>13</td>\n",
       "      <td>14</td>\n",
       "    </tr>\n",
       "  </tbody>\n",
       "</table>\n",
       "</div>"
      ],
      "text/plain": [
       "   c1  c2  c3\n",
       "a   0   1   2\n",
       "b   3   4   5\n",
       "c   6   7   8\n",
       "d   9  10  11\n",
       "e  12  13  14"
      ]
     },
     "execution_count": 56,
     "metadata": {},
     "output_type": "execute_result"
    }
   ],
   "source": [
    "df = pd.DataFrame(np.arange(0, 15).reshape(5, 3),\n",
    "                                 index=['a', 'b', 'c', 'd', 'e'],\n",
    "                                 columns=['c1', 'c2', 'c3'])\n",
    "\n",
    "df"
   ]
  },
  {
   "cell_type": "markdown",
   "metadata": {},
   "source": [
    "#### Kolon Ekleme"
   ]
  },
  {
   "cell_type": "code",
   "execution_count": 57,
   "metadata": {},
   "outputs": [
    {
     "data": {
      "text/html": [
       "<div>\n",
       "<style scoped>\n",
       "    .dataframe tbody tr th:only-of-type {\n",
       "        vertical-align: middle;\n",
       "    }\n",
       "\n",
       "    .dataframe tbody tr th {\n",
       "        vertical-align: top;\n",
       "    }\n",
       "\n",
       "    .dataframe thead th {\n",
       "        text-align: right;\n",
       "    }\n",
       "</style>\n",
       "<table border=\"1\" class=\"dataframe\">\n",
       "  <thead>\n",
       "    <tr style=\"text-align: right;\">\n",
       "      <th></th>\n",
       "      <th>c1</th>\n",
       "      <th>c2</th>\n",
       "      <th>c3</th>\n",
       "      <th>c4</th>\n",
       "    </tr>\n",
       "  </thead>\n",
       "  <tbody>\n",
       "    <tr>\n",
       "      <th>a</th>\n",
       "      <td>0</td>\n",
       "      <td>1</td>\n",
       "      <td>2</td>\n",
       "      <td>NaN</td>\n",
       "    </tr>\n",
       "    <tr>\n",
       "      <th>b</th>\n",
       "      <td>3</td>\n",
       "      <td>4</td>\n",
       "      <td>5</td>\n",
       "      <td>NaN</td>\n",
       "    </tr>\n",
       "    <tr>\n",
       "      <th>c</th>\n",
       "      <td>6</td>\n",
       "      <td>7</td>\n",
       "      <td>8</td>\n",
       "      <td>NaN</td>\n",
       "    </tr>\n",
       "    <tr>\n",
       "      <th>d</th>\n",
       "      <td>9</td>\n",
       "      <td>10</td>\n",
       "      <td>11</td>\n",
       "      <td>NaN</td>\n",
       "    </tr>\n",
       "    <tr>\n",
       "      <th>e</th>\n",
       "      <td>12</td>\n",
       "      <td>13</td>\n",
       "      <td>14</td>\n",
       "      <td>NaN</td>\n",
       "    </tr>\n",
       "  </tbody>\n",
       "</table>\n",
       "</div>"
      ],
      "text/plain": [
       "   c1  c2  c3  c4\n",
       "a   0   1   2 NaN\n",
       "b   3   4   5 NaN\n",
       "c   6   7   8 NaN\n",
       "d   9  10  11 NaN\n",
       "e  12  13  14 NaN"
      ]
     },
     "execution_count": 57,
     "metadata": {},
     "output_type": "execute_result"
    }
   ],
   "source": [
    "df['c4'] = np.nan\n",
    "df"
   ]
  },
  {
   "cell_type": "markdown",
   "metadata": {},
   "source": [
    "#### Satır Ekleme"
   ]
  },
  {
   "cell_type": "code",
   "execution_count": 58,
   "metadata": {},
   "outputs": [
    {
     "data": {
      "text/html": [
       "<div>\n",
       "<style scoped>\n",
       "    .dataframe tbody tr th:only-of-type {\n",
       "        vertical-align: middle;\n",
       "    }\n",
       "\n",
       "    .dataframe tbody tr th {\n",
       "        vertical-align: top;\n",
       "    }\n",
       "\n",
       "    .dataframe thead th {\n",
       "        text-align: right;\n",
       "    }\n",
       "</style>\n",
       "<table border=\"1\" class=\"dataframe\">\n",
       "  <thead>\n",
       "    <tr style=\"text-align: right;\">\n",
       "      <th></th>\n",
       "      <th>c1</th>\n",
       "      <th>c2</th>\n",
       "      <th>c3</th>\n",
       "      <th>c4</th>\n",
       "    </tr>\n",
       "  </thead>\n",
       "  <tbody>\n",
       "    <tr>\n",
       "      <th>a</th>\n",
       "      <td>0</td>\n",
       "      <td>1</td>\n",
       "      <td>2</td>\n",
       "      <td>NaN</td>\n",
       "    </tr>\n",
       "    <tr>\n",
       "      <th>b</th>\n",
       "      <td>3</td>\n",
       "      <td>4</td>\n",
       "      <td>5</td>\n",
       "      <td>NaN</td>\n",
       "    </tr>\n",
       "    <tr>\n",
       "      <th>c</th>\n",
       "      <td>6</td>\n",
       "      <td>7</td>\n",
       "      <td>8</td>\n",
       "      <td>NaN</td>\n",
       "    </tr>\n",
       "    <tr>\n",
       "      <th>d</th>\n",
       "      <td>9</td>\n",
       "      <td>10</td>\n",
       "      <td>11</td>\n",
       "      <td>NaN</td>\n",
       "    </tr>\n",
       "    <tr>\n",
       "      <th>e</th>\n",
       "      <td>12</td>\n",
       "      <td>13</td>\n",
       "      <td>14</td>\n",
       "      <td>NaN</td>\n",
       "    </tr>\n",
       "    <tr>\n",
       "      <th>f</th>\n",
       "      <td>15</td>\n",
       "      <td>16</td>\n",
       "      <td>17</td>\n",
       "      <td>18.0</td>\n",
       "    </tr>\n",
       "  </tbody>\n",
       "</table>\n",
       "</div>"
      ],
      "text/plain": [
       "   c1  c2  c3    c4\n",
       "a   0   1   2   NaN\n",
       "b   3   4   5   NaN\n",
       "c   6   7   8   NaN\n",
       "d   9  10  11   NaN\n",
       "e  12  13  14   NaN\n",
       "f  15  16  17  18.0"
      ]
     },
     "execution_count": 58,
     "metadata": {},
     "output_type": "execute_result"
    }
   ],
   "source": [
    "df.loc['f'] = np.arange(15, 19)\n",
    "df"
   ]
  },
  {
   "cell_type": "code",
   "execution_count": 59,
   "metadata": {},
   "outputs": [
    {
     "data": {
      "text/html": [
       "<div>\n",
       "<style scoped>\n",
       "    .dataframe tbody tr th:only-of-type {\n",
       "        vertical-align: middle;\n",
       "    }\n",
       "\n",
       "    .dataframe tbody tr th {\n",
       "        vertical-align: top;\n",
       "    }\n",
       "\n",
       "    .dataframe thead th {\n",
       "        text-align: right;\n",
       "    }\n",
       "</style>\n",
       "<table border=\"1\" class=\"dataframe\">\n",
       "  <thead>\n",
       "    <tr style=\"text-align: right;\">\n",
       "      <th></th>\n",
       "      <th>c1</th>\n",
       "      <th>c2</th>\n",
       "      <th>c3</th>\n",
       "      <th>c4</th>\n",
       "    </tr>\n",
       "  </thead>\n",
       "  <tbody>\n",
       "    <tr>\n",
       "      <th>a</th>\n",
       "      <td>0.0</td>\n",
       "      <td>1.0</td>\n",
       "      <td>2.0</td>\n",
       "      <td>NaN</td>\n",
       "    </tr>\n",
       "    <tr>\n",
       "      <th>b</th>\n",
       "      <td>3.0</td>\n",
       "      <td>4.0</td>\n",
       "      <td>5.0</td>\n",
       "      <td>NaN</td>\n",
       "    </tr>\n",
       "    <tr>\n",
       "      <th>c</th>\n",
       "      <td>6.0</td>\n",
       "      <td>7.0</td>\n",
       "      <td>8.0</td>\n",
       "      <td>NaN</td>\n",
       "    </tr>\n",
       "    <tr>\n",
       "      <th>d</th>\n",
       "      <td>9.0</td>\n",
       "      <td>10.0</td>\n",
       "      <td>11.0</td>\n",
       "      <td>NaN</td>\n",
       "    </tr>\n",
       "    <tr>\n",
       "      <th>e</th>\n",
       "      <td>12.0</td>\n",
       "      <td>13.0</td>\n",
       "      <td>14.0</td>\n",
       "      <td>NaN</td>\n",
       "    </tr>\n",
       "    <tr>\n",
       "      <th>f</th>\n",
       "      <td>15.0</td>\n",
       "      <td>16.0</td>\n",
       "      <td>17.0</td>\n",
       "      <td>18.0</td>\n",
       "    </tr>\n",
       "    <tr>\n",
       "      <th>g</th>\n",
       "      <td>NaN</td>\n",
       "      <td>NaN</td>\n",
       "      <td>NaN</td>\n",
       "      <td>NaN</td>\n",
       "    </tr>\n",
       "  </tbody>\n",
       "</table>\n",
       "</div>"
      ],
      "text/plain": [
       "     c1    c2    c3    c4\n",
       "a   0.0   1.0   2.0   NaN\n",
       "b   3.0   4.0   5.0   NaN\n",
       "c   6.0   7.0   8.0   NaN\n",
       "d   9.0  10.0  11.0   NaN\n",
       "e  12.0  13.0  14.0   NaN\n",
       "f  15.0  16.0  17.0  18.0\n",
       "g   NaN   NaN   NaN   NaN"
      ]
     },
     "execution_count": 59,
     "metadata": {},
     "output_type": "execute_result"
    }
   ],
   "source": [
    "df.loc['g'] = np.nan\n",
    "df"
   ]
  },
  {
   "cell_type": "markdown",
   "metadata": {},
   "source": [
    "#### Değer Ekleme"
   ]
  },
  {
   "cell_type": "code",
   "execution_count": 62,
   "metadata": {},
   "outputs": [
    {
     "data": {
      "text/html": [
       "<div>\n",
       "<style scoped>\n",
       "    .dataframe tbody tr th:only-of-type {\n",
       "        vertical-align: middle;\n",
       "    }\n",
       "\n",
       "    .dataframe tbody tr th {\n",
       "        vertical-align: top;\n",
       "    }\n",
       "\n",
       "    .dataframe thead th {\n",
       "        text-align: right;\n",
       "    }\n",
       "</style>\n",
       "<table border=\"1\" class=\"dataframe\">\n",
       "  <thead>\n",
       "    <tr style=\"text-align: right;\">\n",
       "      <th></th>\n",
       "      <th>c1</th>\n",
       "      <th>c2</th>\n",
       "      <th>c3</th>\n",
       "      <th>c4</th>\n",
       "      <th>c5</th>\n",
       "    </tr>\n",
       "  </thead>\n",
       "  <tbody>\n",
       "    <tr>\n",
       "      <th>a</th>\n",
       "      <td>0.0</td>\n",
       "      <td>1.0</td>\n",
       "      <td>2.0</td>\n",
       "      <td>20.0</td>\n",
       "      <td>NaN</td>\n",
       "    </tr>\n",
       "    <tr>\n",
       "      <th>b</th>\n",
       "      <td>3.0</td>\n",
       "      <td>4.0</td>\n",
       "      <td>5.0</td>\n",
       "      <td>NaN</td>\n",
       "      <td>NaN</td>\n",
       "    </tr>\n",
       "    <tr>\n",
       "      <th>c</th>\n",
       "      <td>6.0</td>\n",
       "      <td>7.0</td>\n",
       "      <td>8.0</td>\n",
       "      <td>NaN</td>\n",
       "      <td>NaN</td>\n",
       "    </tr>\n",
       "    <tr>\n",
       "      <th>d</th>\n",
       "      <td>9.0</td>\n",
       "      <td>10.0</td>\n",
       "      <td>11.0</td>\n",
       "      <td>NaN</td>\n",
       "      <td>NaN</td>\n",
       "    </tr>\n",
       "    <tr>\n",
       "      <th>e</th>\n",
       "      <td>12.0</td>\n",
       "      <td>13.0</td>\n",
       "      <td>14.0</td>\n",
       "      <td>NaN</td>\n",
       "      <td>NaN</td>\n",
       "    </tr>\n",
       "    <tr>\n",
       "      <th>f</th>\n",
       "      <td>15.0</td>\n",
       "      <td>16.0</td>\n",
       "      <td>17.0</td>\n",
       "      <td>18.0</td>\n",
       "      <td>NaN</td>\n",
       "    </tr>\n",
       "    <tr>\n",
       "      <th>g</th>\n",
       "      <td>NaN</td>\n",
       "      <td>NaN</td>\n",
       "      <td>NaN</td>\n",
       "      <td>NaN</td>\n",
       "      <td>NaN</td>\n",
       "    </tr>\n",
       "  </tbody>\n",
       "</table>\n",
       "</div>"
      ],
      "text/plain": [
       "     c1    c2    c3    c4  c5\n",
       "a   0.0   1.0   2.0  20.0 NaN\n",
       "b   3.0   4.0   5.0   NaN NaN\n",
       "c   6.0   7.0   8.0   NaN NaN\n",
       "d   9.0  10.0  11.0   NaN NaN\n",
       "e  12.0  13.0  14.0   NaN NaN\n",
       "f  15.0  16.0  17.0  18.0 NaN\n",
       "g   NaN   NaN   NaN   NaN NaN"
      ]
     },
     "execution_count": 62,
     "metadata": {},
     "output_type": "execute_result"
    }
   ],
   "source": [
    "df['c5'] = np.nan\n",
    "df\n",
    "# Yanlış yöntem\n",
    "# df['c4']['a'] = 20\n",
    "# Doğru yöntem\n",
    "df.loc['a', 'c4'] = 20\n",
    "df"
   ]
  },
  {
   "cell_type": "markdown",
   "metadata": {},
   "source": [
    "#### Uyarı Mesajı ve Çözümü\n",
    "\n",
    "Aldığımız uyarı mesajı Chained Assignment (Zincirleme Atama) Uyarısı: Kodda, bir veri çerçevesindeki (DataFrame) bir sütunu güncellemek için birden fazla adımda atama işlemi yapıldığında örneğin, önce sütunu seçip ardından bu seçili sütuna yeni değerler atandığında, gelecekteki Pandas sürümlerinde (özellikle 3.0 ve sonrası) beklenmedik sonuçlara yol açabileceğini belirtiyor. ÇünküPandas 3.0 sürümünden itibaren, bu zincirlenmiş atama yöntemi artık orijinal veri çerçevesini güncellemeyecek bunun yerine, yeni bir kopya oluşturacak ve değişiklikler bu kopya üzerinde yapılacaktır. Bu durum, beklenmedik sonuçlara ve hatalara yol açabilir.\n",
    "Uyarı mesajında önerildiği gibi, df.loc[row_indexer, \"col\"] = values şeklinde tek adımda atama işlemi yapmanız önerilir. Bu sayede, hem orijinal veri çerçevesi güncellenir hem de gelecekteki Pandas sürümlerinde de sorun yaşamazsınız. Örnek uygulama:"
   ]
  },
  {
   "cell_type": "code",
   "execution_count": 61,
   "metadata": {},
   "outputs": [
    {
     "name": "stdout",
     "output_type": "stream",
     "text": [
      "   col1\n",
      "0     1\n",
      "1     2\n",
      "2     3\n",
      "   col1\n",
      "0     2\n",
      "1     4\n",
      "2     6\n"
     ]
    }
   ],
   "source": [
    "import pandas as pd\n",
    "\n",
    "dataf = pd.DataFrame({'col1': [1, 2, 3]})\n",
    "print (dataf)\n",
    "# Yanlış (Zincirlenmiş Atama):\n",
    "# dataf[\"col1\"] = dataf[\"col1\"] * 2\n",
    "\n",
    "# Doğru (Tek Adımda Atama):\n",
    "dataf.loc[:, \"col1\"] = dataf[\"col1\"] * 2\n",
    "print (dataf)"
   ]
  }
 ],
 "metadata": {
  "kernelspec": {
   "display_name": "base",
   "language": "python",
   "name": "python3"
  },
  "language_info": {
   "codemirror_mode": {
    "name": "ipython",
    "version": 3
   },
   "file_extension": ".py",
   "mimetype": "text/x-python",
   "name": "python",
   "nbconvert_exporter": "python",
   "pygments_lexer": "ipython3",
   "version": "3.12.4"
  }
 },
 "nbformat": 4,
 "nbformat_minor": 2
}
