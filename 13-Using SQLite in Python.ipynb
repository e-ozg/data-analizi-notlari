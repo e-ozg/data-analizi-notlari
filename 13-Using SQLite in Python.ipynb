{
 "cells": [
  {
   "cell_type": "markdown",
   "metadata": {},
   "source": []
  },
  {
   "cell_type": "code",
   "execution_count": 1,
   "metadata": {},
   "outputs": [],
   "source": [
    "import sqlite3\n",
    "import pandas as pd"
   ]
  },
  {
   "cell_type": "markdown",
   "metadata": {},
   "source": [
    "Connecting to a Database: Establish a connection to an existing database or create a new one\n",
    "This creates a database file named your_database.db in the current directory. If the file already exists, it will connect to that database."
   ]
  },
  {
   "cell_type": "code",
   "execution_count": 2,
   "metadata": {},
   "outputs": [],
   "source": [
    "conn = sqlite3.connect('Emre Ozgen - SQLDersleri.db')"
   ]
  },
  {
   "cell_type": "markdown",
   "metadata": {},
   "source": [
    "Creating a Cursor: The cursor allows you to execute SQL commands:"
   ]
  },
  {
   "cell_type": "code",
   "execution_count": 3,
   "metadata": {},
   "outputs": [],
   "source": [
    "cur = conn.cursor()"
   ]
  },
  {
   "cell_type": "markdown",
   "metadata": {},
   "source": [
    "Closing the Connection: After completing your operations, always close the connection"
   ]
  },
  {
   "cell_type": "code",
   "execution_count": 4,
   "metadata": {},
   "outputs": [],
   "source": [
    "# conn.close()"
   ]
  },
  {
   "cell_type": "markdown",
   "metadata": {},
   "source": [
    "To retrieve unique values from a column, use the SELECT DISTINCT statemen"
   ]
  },
  {
   "cell_type": "code",
   "execution_count": 5,
   "metadata": {},
   "outputs": [],
   "source": [
    "# cur.execute(\"SELECT DISTINCT column_name FROM table_name;\")\n",
    "# rows = cur.fetchall()  # Fetches all rows from the executed query.\n",
    "# for row in rows:\n",
    "#    print(row)"
   ]
  },
  {
   "cell_type": "markdown",
   "metadata": {},
   "source": [
    "For example, if you have a theaters table and want to get unique theater categories:"
   ]
  },
  {
   "cell_type": "code",
   "execution_count": 6,
   "metadata": {},
   "outputs": [
    {
     "name": "stdout",
     "output_type": "stream",
     "text": [
      "('ADALAR',)\n",
      "('ARNAVUTKÖY',)\n",
      "('ATAŞEHÝR',)\n",
      "('AVCILAR',)\n",
      "('BAÐCILAR',)\n",
      "('BAHÇELÝEVLER',)\n",
      "('BAKIRKÖY',)\n",
      "('BAŞAKŞEHÝR',)\n",
      "('BAYRAMPAŞA',)\n",
      "('BEŞÝKTAŞ',)\n",
      "('BEYKOZ',)\n",
      "('BEYLÝKDÜZÜ',)\n",
      "('BEYOÐLU',)\n",
      "('BÜYÜKÇEKMECE',)\n",
      "('ÇATALCA',)\n",
      "('ÇEKMEKÖY',)\n",
      "('ESENLER',)\n",
      "('ESENYURT',)\n",
      "('EYÜP',)\n",
      "('FATÝH',)\n",
      "('GAZÝOSMANPAŞA',)\n",
      "('GÜNGÖREN',)\n",
      "('KADIKÖY',)\n",
      "('KAÐITHANE',)\n",
      "('KARTAL',)\n",
      "('KÜÇÜKÇEKMECE',)\n",
      "('MALTEPE',)\n",
      "('PENDÝK',)\n",
      "('SANCAKTEPE',)\n",
      "('SARIYER',)\n",
      "('SÝLÝVRÝ',)\n",
      "('SULTANBEYLÝ',)\n",
      "('SULTANGAZÝ',)\n",
      "('ŞÝLE',)\n",
      "('ŞÝŞLÝ',)\n",
      "('TUZLA',)\n",
      "('ÜMRANÝYE',)\n",
      "('ÜSKÜDAR',)\n",
      "('ZEYTÝNBURNU',)\n"
     ]
    }
   ],
   "source": [
    "cur.execute(\"SELECT DISTINCT ilce_adi FROM DepremSenaryosu;\")\n",
    "categories = cur.fetchall()\n",
    "for category in categories:\n",
    "    print(category)"
   ]
  },
  {
   "cell_type": "markdown",
   "metadata": {},
   "source": [
    "You can directly run SQL queries and read the result into a pandas DataFrame"
   ]
  },
  {
   "cell_type": "code",
   "execution_count": 7,
   "metadata": {},
   "outputs": [],
   "source": [
    "# df = pd.read_sql_query(\"SELECT * FROM table_name;\", conn)\n",
    "\n",
    "# For example, to get the sum of viewers grouped by Oyun_Tipi (theater type):\n",
    "\n",
    "# query = \"SELECT Oyun_Tipi, SUM(İzleyici_Sayısı) AS Total_İzleyici FROM tiyatrolar GROUP BY Oyun_Tipi;\"\n",
    "# df = pd.read_sql_query(query, conn)"
   ]
  }
 ],
 "metadata": {
  "kernelspec": {
   "display_name": "base",
   "language": "python",
   "name": "python3"
  },
  "language_info": {
   "codemirror_mode": {
    "name": "ipython",
    "version": 3
   },
   "file_extension": ".py",
   "mimetype": "text/x-python",
   "name": "python",
   "nbconvert_exporter": "python",
   "pygments_lexer": "ipython3",
   "version": "3.12.4"
  }
 },
 "nbformat": 4,
 "nbformat_minor": 2
}
